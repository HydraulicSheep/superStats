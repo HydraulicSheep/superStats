{
 "cells": [
  {
   "cell_type": "markdown",
   "metadata": {},
   "source": [
    "# Classification - In or Out?\n",
    "by [HydraulicSheep](https://github.com/HydraulicSheep)"
   ]
  },
  {
   "cell_type": "markdown",
   "metadata": {},
   "source": [
    "#### References: \n",
    " http://cs229.stanford.edu/notes2020spring/cs229-notes1.pdf **[1]**\n",
    " \n",
    " https://archive.ics.uci.edu/ml/datasets/Wine+Quality **[2]**"
   ]
  },
  {
   "cell_type": "markdown",
   "metadata": {},
   "source": [
    "In nature, a very intuitive concept is that of groups. Objects with similar characteristics can be lumped together, despite slight differences, to reveal meaningful relationships and rules."
   ]
  },
  {
   "cell_type": "markdown",
   "metadata": {},
   "source": [
    "In statistics, classification is simply the problem of assigning datapoints to groups. For example, classifying over the famous [MNIST Digit Dataset](http://yann.lecun.com/exdb/mnist/) can identify handwritten digits."
   ]
  },
  {
   "cell_type": "markdown",
   "metadata": {},
   "source": [
    "## A Simple Linear Classifier"
   ]
  },
  {
   "cell_type": "markdown",
   "metadata": {},
   "source": [
    "The data we'll be looking at for this task is a collection of characteristics for a [variety of wines](https://archive.ics.uci.edu/ml/datasets/Wine+Quality) **[2]**. Some of them are red and others are white. The goal is to best classify the red and white wines so that, theoretically, we can successfully predict these types. The specific machine learning technique we'll use for this is called '**Logistic Regression**'."
   ]
  },
  {
   "cell_type": "code",
   "execution_count": 1,
   "metadata": {},
   "outputs": [],
   "source": [
    "import pandas\n",
    "import math\n",
    "import numpy as np\n",
    "import matplotlib.pyplot as plt"
   ]
  },
  {
   "cell_type": "code",
   "execution_count": 2,
   "metadata": {},
   "outputs": [],
   "source": [
    "whiteWines = pandas.read_csv('winequality-white.csv',sep=';')"
   ]
  },
  {
   "cell_type": "code",
   "execution_count": 3,
   "metadata": {},
   "outputs": [
    {
     "data": {
      "text/html": [
       "<div>\n",
       "<style scoped>\n",
       "    .dataframe tbody tr th:only-of-type {\n",
       "        vertical-align: middle;\n",
       "    }\n",
       "\n",
       "    .dataframe tbody tr th {\n",
       "        vertical-align: top;\n",
       "    }\n",
       "\n",
       "    .dataframe thead th {\n",
       "        text-align: right;\n",
       "    }\n",
       "</style>\n",
       "<table border=\"1\" class=\"dataframe\">\n",
       "  <thead>\n",
       "    <tr style=\"text-align: right;\">\n",
       "      <th></th>\n",
       "      <th>fixed acidity</th>\n",
       "      <th>volatile acidity</th>\n",
       "      <th>citric acid</th>\n",
       "      <th>residual sugar</th>\n",
       "      <th>chlorides</th>\n",
       "      <th>free sulfur dioxide</th>\n",
       "      <th>total sulfur dioxide</th>\n",
       "      <th>density</th>\n",
       "      <th>pH</th>\n",
       "      <th>sulphates</th>\n",
       "      <th>alcohol</th>\n",
       "      <th>quality</th>\n",
       "    </tr>\n",
       "  </thead>\n",
       "  <tbody>\n",
       "    <tr>\n",
       "      <th>0</th>\n",
       "      <td>7.0</td>\n",
       "      <td>0.27</td>\n",
       "      <td>0.36</td>\n",
       "      <td>20.7</td>\n",
       "      <td>0.045</td>\n",
       "      <td>45.0</td>\n",
       "      <td>170.0</td>\n",
       "      <td>1.0010</td>\n",
       "      <td>3.00</td>\n",
       "      <td>0.45</td>\n",
       "      <td>8.8</td>\n",
       "      <td>6</td>\n",
       "    </tr>\n",
       "    <tr>\n",
       "      <th>1</th>\n",
       "      <td>6.3</td>\n",
       "      <td>0.30</td>\n",
       "      <td>0.34</td>\n",
       "      <td>1.6</td>\n",
       "      <td>0.049</td>\n",
       "      <td>14.0</td>\n",
       "      <td>132.0</td>\n",
       "      <td>0.9940</td>\n",
       "      <td>3.30</td>\n",
       "      <td>0.49</td>\n",
       "      <td>9.5</td>\n",
       "      <td>6</td>\n",
       "    </tr>\n",
       "    <tr>\n",
       "      <th>2</th>\n",
       "      <td>8.1</td>\n",
       "      <td>0.28</td>\n",
       "      <td>0.40</td>\n",
       "      <td>6.9</td>\n",
       "      <td>0.050</td>\n",
       "      <td>30.0</td>\n",
       "      <td>97.0</td>\n",
       "      <td>0.9951</td>\n",
       "      <td>3.26</td>\n",
       "      <td>0.44</td>\n",
       "      <td>10.1</td>\n",
       "      <td>6</td>\n",
       "    </tr>\n",
       "    <tr>\n",
       "      <th>3</th>\n",
       "      <td>7.2</td>\n",
       "      <td>0.23</td>\n",
       "      <td>0.32</td>\n",
       "      <td>8.5</td>\n",
       "      <td>0.058</td>\n",
       "      <td>47.0</td>\n",
       "      <td>186.0</td>\n",
       "      <td>0.9956</td>\n",
       "      <td>3.19</td>\n",
       "      <td>0.40</td>\n",
       "      <td>9.9</td>\n",
       "      <td>6</td>\n",
       "    </tr>\n",
       "    <tr>\n",
       "      <th>4</th>\n",
       "      <td>7.2</td>\n",
       "      <td>0.23</td>\n",
       "      <td>0.32</td>\n",
       "      <td>8.5</td>\n",
       "      <td>0.058</td>\n",
       "      <td>47.0</td>\n",
       "      <td>186.0</td>\n",
       "      <td>0.9956</td>\n",
       "      <td>3.19</td>\n",
       "      <td>0.40</td>\n",
       "      <td>9.9</td>\n",
       "      <td>6</td>\n",
       "    </tr>\n",
       "  </tbody>\n",
       "</table>\n",
       "</div>"
      ],
      "text/plain": [
       "   fixed acidity  volatile acidity  citric acid  residual sugar  chlorides  \\\n",
       "0            7.0              0.27         0.36            20.7      0.045   \n",
       "1            6.3              0.30         0.34             1.6      0.049   \n",
       "2            8.1              0.28         0.40             6.9      0.050   \n",
       "3            7.2              0.23         0.32             8.5      0.058   \n",
       "4            7.2              0.23         0.32             8.5      0.058   \n",
       "\n",
       "   free sulfur dioxide  total sulfur dioxide  density    pH  sulphates  \\\n",
       "0                 45.0                 170.0   1.0010  3.00       0.45   \n",
       "1                 14.0                 132.0   0.9940  3.30       0.49   \n",
       "2                 30.0                  97.0   0.9951  3.26       0.44   \n",
       "3                 47.0                 186.0   0.9956  3.19       0.40   \n",
       "4                 47.0                 186.0   0.9956  3.19       0.40   \n",
       "\n",
       "   alcohol  quality  \n",
       "0      8.8        6  \n",
       "1      9.5        6  \n",
       "2     10.1        6  \n",
       "3      9.9        6  \n",
       "4      9.9        6  "
      ]
     },
     "execution_count": 3,
     "metadata": {},
     "output_type": "execute_result"
    }
   ],
   "source": [
    "whiteWines.head(5)"
   ]
  },
  {
   "cell_type": "code",
   "execution_count": 4,
   "metadata": {},
   "outputs": [],
   "source": [
    "redWines = pandas.read_csv('winequality-red.csv',sep=';')"
   ]
  },
  {
   "cell_type": "code",
   "execution_count": 5,
   "metadata": {},
   "outputs": [
    {
     "data": {
      "text/html": [
       "<div>\n",
       "<style scoped>\n",
       "    .dataframe tbody tr th:only-of-type {\n",
       "        vertical-align: middle;\n",
       "    }\n",
       "\n",
       "    .dataframe tbody tr th {\n",
       "        vertical-align: top;\n",
       "    }\n",
       "\n",
       "    .dataframe thead th {\n",
       "        text-align: right;\n",
       "    }\n",
       "</style>\n",
       "<table border=\"1\" class=\"dataframe\">\n",
       "  <thead>\n",
       "    <tr style=\"text-align: right;\">\n",
       "      <th></th>\n",
       "      <th>fixed acidity</th>\n",
       "      <th>volatile acidity</th>\n",
       "      <th>citric acid</th>\n",
       "      <th>residual sugar</th>\n",
       "      <th>chlorides</th>\n",
       "      <th>free sulfur dioxide</th>\n",
       "      <th>total sulfur dioxide</th>\n",
       "      <th>density</th>\n",
       "      <th>pH</th>\n",
       "      <th>sulphates</th>\n",
       "      <th>alcohol</th>\n",
       "      <th>quality</th>\n",
       "    </tr>\n",
       "  </thead>\n",
       "  <tbody>\n",
       "    <tr>\n",
       "      <th>0</th>\n",
       "      <td>7.4</td>\n",
       "      <td>0.70</td>\n",
       "      <td>0.00</td>\n",
       "      <td>1.9</td>\n",
       "      <td>0.076</td>\n",
       "      <td>11.0</td>\n",
       "      <td>34.0</td>\n",
       "      <td>0.9978</td>\n",
       "      <td>3.51</td>\n",
       "      <td>0.56</td>\n",
       "      <td>9.4</td>\n",
       "      <td>5</td>\n",
       "    </tr>\n",
       "    <tr>\n",
       "      <th>1</th>\n",
       "      <td>7.8</td>\n",
       "      <td>0.88</td>\n",
       "      <td>0.00</td>\n",
       "      <td>2.6</td>\n",
       "      <td>0.098</td>\n",
       "      <td>25.0</td>\n",
       "      <td>67.0</td>\n",
       "      <td>0.9968</td>\n",
       "      <td>3.20</td>\n",
       "      <td>0.68</td>\n",
       "      <td>9.8</td>\n",
       "      <td>5</td>\n",
       "    </tr>\n",
       "    <tr>\n",
       "      <th>2</th>\n",
       "      <td>7.8</td>\n",
       "      <td>0.76</td>\n",
       "      <td>0.04</td>\n",
       "      <td>2.3</td>\n",
       "      <td>0.092</td>\n",
       "      <td>15.0</td>\n",
       "      <td>54.0</td>\n",
       "      <td>0.9970</td>\n",
       "      <td>3.26</td>\n",
       "      <td>0.65</td>\n",
       "      <td>9.8</td>\n",
       "      <td>5</td>\n",
       "    </tr>\n",
       "    <tr>\n",
       "      <th>3</th>\n",
       "      <td>11.2</td>\n",
       "      <td>0.28</td>\n",
       "      <td>0.56</td>\n",
       "      <td>1.9</td>\n",
       "      <td>0.075</td>\n",
       "      <td>17.0</td>\n",
       "      <td>60.0</td>\n",
       "      <td>0.9980</td>\n",
       "      <td>3.16</td>\n",
       "      <td>0.58</td>\n",
       "      <td>9.8</td>\n",
       "      <td>6</td>\n",
       "    </tr>\n",
       "    <tr>\n",
       "      <th>4</th>\n",
       "      <td>7.4</td>\n",
       "      <td>0.70</td>\n",
       "      <td>0.00</td>\n",
       "      <td>1.9</td>\n",
       "      <td>0.076</td>\n",
       "      <td>11.0</td>\n",
       "      <td>34.0</td>\n",
       "      <td>0.9978</td>\n",
       "      <td>3.51</td>\n",
       "      <td>0.56</td>\n",
       "      <td>9.4</td>\n",
       "      <td>5</td>\n",
       "    </tr>\n",
       "  </tbody>\n",
       "</table>\n",
       "</div>"
      ],
      "text/plain": [
       "   fixed acidity  volatile acidity  citric acid  residual sugar  chlorides  \\\n",
       "0            7.4              0.70         0.00             1.9      0.076   \n",
       "1            7.8              0.88         0.00             2.6      0.098   \n",
       "2            7.8              0.76         0.04             2.3      0.092   \n",
       "3           11.2              0.28         0.56             1.9      0.075   \n",
       "4            7.4              0.70         0.00             1.9      0.076   \n",
       "\n",
       "   free sulfur dioxide  total sulfur dioxide  density    pH  sulphates  \\\n",
       "0                 11.0                  34.0   0.9978  3.51       0.56   \n",
       "1                 25.0                  67.0   0.9968  3.20       0.68   \n",
       "2                 15.0                  54.0   0.9970  3.26       0.65   \n",
       "3                 17.0                  60.0   0.9980  3.16       0.58   \n",
       "4                 11.0                  34.0   0.9978  3.51       0.56   \n",
       "\n",
       "   alcohol  quality  \n",
       "0      9.4        5  \n",
       "1      9.8        5  \n",
       "2      9.8        5  \n",
       "3      9.8        6  \n",
       "4      9.4        5  "
      ]
     },
     "execution_count": 5,
     "metadata": {},
     "output_type": "execute_result"
    }
   ],
   "source": [
    "redWines.head(5)"
   ]
  },
  {
   "cell_type": "markdown",
   "metadata": {},
   "source": [
    "Great! Our data is imported and contains a number of (hopefully) useful factors for classifying wines. However, reading the dataset information, the quality is an 'output variable'. As we aren't training to assess the wine's quality, lte's just remove that from our data."
   ]
  },
  {
   "cell_type": "code",
   "execution_count": 6,
   "metadata": {},
   "outputs": [
    {
     "data": {
      "text/html": [
       "<div>\n",
       "<style scoped>\n",
       "    .dataframe tbody tr th:only-of-type {\n",
       "        vertical-align: middle;\n",
       "    }\n",
       "\n",
       "    .dataframe tbody tr th {\n",
       "        vertical-align: top;\n",
       "    }\n",
       "\n",
       "    .dataframe thead th {\n",
       "        text-align: right;\n",
       "    }\n",
       "</style>\n",
       "<table border=\"1\" class=\"dataframe\">\n",
       "  <thead>\n",
       "    <tr style=\"text-align: right;\">\n",
       "      <th></th>\n",
       "      <th>fixed acidity</th>\n",
       "      <th>volatile acidity</th>\n",
       "      <th>citric acid</th>\n",
       "      <th>residual sugar</th>\n",
       "      <th>chlorides</th>\n",
       "      <th>free sulfur dioxide</th>\n",
       "      <th>total sulfur dioxide</th>\n",
       "      <th>density</th>\n",
       "      <th>pH</th>\n",
       "      <th>sulphates</th>\n",
       "      <th>alcohol</th>\n",
       "    </tr>\n",
       "  </thead>\n",
       "  <tbody>\n",
       "    <tr>\n",
       "      <th>0</th>\n",
       "      <td>7.4</td>\n",
       "      <td>0.7</td>\n",
       "      <td>0.0</td>\n",
       "      <td>1.9</td>\n",
       "      <td>0.076</td>\n",
       "      <td>11.0</td>\n",
       "      <td>34.0</td>\n",
       "      <td>0.9978</td>\n",
       "      <td>3.51</td>\n",
       "      <td>0.56</td>\n",
       "      <td>9.4</td>\n",
       "    </tr>\n",
       "  </tbody>\n",
       "</table>\n",
       "</div>"
      ],
      "text/plain": [
       "   fixed acidity  volatile acidity  citric acid  residual sugar  chlorides  \\\n",
       "0            7.4               0.7          0.0             1.9      0.076   \n",
       "\n",
       "   free sulfur dioxide  total sulfur dioxide  density    pH  sulphates  \\\n",
       "0                 11.0                  34.0   0.9978  3.51       0.56   \n",
       "\n",
       "   alcohol  \n",
       "0      9.4  "
      ]
     },
     "execution_count": 6,
     "metadata": {},
     "output_type": "execute_result"
    }
   ],
   "source": [
    "redWines = redWines.drop(columns=['quality'])\n",
    "redWines.head(1)"
   ]
  },
  {
   "cell_type": "code",
   "execution_count": 7,
   "metadata": {},
   "outputs": [
    {
     "data": {
      "text/html": [
       "<div>\n",
       "<style scoped>\n",
       "    .dataframe tbody tr th:only-of-type {\n",
       "        vertical-align: middle;\n",
       "    }\n",
       "\n",
       "    .dataframe tbody tr th {\n",
       "        vertical-align: top;\n",
       "    }\n",
       "\n",
       "    .dataframe thead th {\n",
       "        text-align: right;\n",
       "    }\n",
       "</style>\n",
       "<table border=\"1\" class=\"dataframe\">\n",
       "  <thead>\n",
       "    <tr style=\"text-align: right;\">\n",
       "      <th></th>\n",
       "      <th>fixed acidity</th>\n",
       "      <th>volatile acidity</th>\n",
       "      <th>citric acid</th>\n",
       "      <th>residual sugar</th>\n",
       "      <th>chlorides</th>\n",
       "      <th>free sulfur dioxide</th>\n",
       "      <th>total sulfur dioxide</th>\n",
       "      <th>density</th>\n",
       "      <th>pH</th>\n",
       "      <th>sulphates</th>\n",
       "      <th>alcohol</th>\n",
       "    </tr>\n",
       "  </thead>\n",
       "  <tbody>\n",
       "    <tr>\n",
       "      <th>0</th>\n",
       "      <td>7.0</td>\n",
       "      <td>0.27</td>\n",
       "      <td>0.36</td>\n",
       "      <td>20.7</td>\n",
       "      <td>0.045</td>\n",
       "      <td>45.0</td>\n",
       "      <td>170.0</td>\n",
       "      <td>1.001</td>\n",
       "      <td>3.0</td>\n",
       "      <td>0.45</td>\n",
       "      <td>8.8</td>\n",
       "    </tr>\n",
       "  </tbody>\n",
       "</table>\n",
       "</div>"
      ],
      "text/plain": [
       "   fixed acidity  volatile acidity  citric acid  residual sugar  chlorides  \\\n",
       "0            7.0              0.27         0.36            20.7      0.045   \n",
       "\n",
       "   free sulfur dioxide  total sulfur dioxide  density   pH  sulphates  alcohol  \n",
       "0                 45.0                 170.0    1.001  3.0       0.45      8.8  "
      ]
     },
     "execution_count": 7,
     "metadata": {},
     "output_type": "execute_result"
    }
   ],
   "source": [
    "whiteWines = whiteWines.drop(columns=['quality'])\n",
    "whiteWines.head(1)"
   ]
  },
  {
   "cell_type": "markdown",
   "metadata": {},
   "source": [
    "Now that everything's established, let's start writing some tools for our classification."
   ]
  },
  {
   "cell_type": "markdown",
   "metadata": {},
   "source": [
    "### Logistic Regression"
   ]
  },
  {
   "cell_type": "markdown",
   "metadata": {},
   "source": [
    "Following from Linear Regression, Logistic Regression is a very natural system.\n",
    "We need to find a function that best maps any point in the training data to the correct class - white wine or red wine.\n",
    "\n",
    "Let's define one class as having the y-value '1' and the other as having y-value '0'.\n",
    "\n",
    "So, for the function to produce valid outputs, we need a function that maps all possible X values to a y-value between 0 and 1.\n"
   ]
  },
  {
   "cell_type": "markdown",
   "metadata": {},
   "source": [
    "There are a few functions that do this, but one of them is the logistic/sigmoid curve:"
   ]
  },
  {
   "cell_type": "markdown",
   "metadata": {},
   "source": [
    "$$ f(x) = \\frac{1}{1+e^{-x}}$$"
   ]
  },
  {
   "cell_type": "markdown",
   "metadata": {},
   "source": [
    "Now, for a linear classifier, we assume that the class is given by a linear combination of a data-point's features. i.e. a weighted sum $= \\theta_{0} + \\theta_{1}x_1 + \\theta_{2}x_2 + ... + \\theta_{m}x_m $"
   ]
  },
  {
   "cell_type": "markdown",
   "metadata": {},
   "source": [
    "Expressing this in matrix form, with matrices $ \\theta $ and X, we get: $$ s(x) =  \\theta^{T}X $$"
   ]
  },
  {
   "cell_type": "markdown",
   "metadata": {},
   "source": [
    "And to confine this between 0 and 1, we take f(s(x)) $$ h(x) = \\frac{1}{1+e^{\\theta^{T}X}}$$ \n",
    "where h(x) is called our 'hypothesis function'.\n",
    "\n",
    "Let's define this as a function of theta and X:\n"
   ]
  },
  {
   "cell_type": "code",
   "execution_count": 8,
   "metadata": {},
   "outputs": [],
   "source": [
    "# Takes a matrix of weights, theta, and training points, x\n",
    "def h(theta, x):\n",
    "    theta_tr = theta.transpose()\n",
    "    prod = np.matmul(theta,x)\n",
    "    return 1/(1+math.exp(-prod))"
   ]
  },
  {
   "cell_type": "markdown",
   "metadata": {},
   "source": [
    "Let's test this on some data:"
   ]
  },
  {
   "cell_type": "code",
   "execution_count": 9,
   "metadata": {},
   "outputs": [],
   "source": [
    "theta = np.array([1,2,3,4])\n",
    "x = np.array([1,-2,3,-4])"
   ]
  },
  {
   "cell_type": "code",
   "execution_count": 10,
   "metadata": {},
   "outputs": [
    {
     "data": {
      "text/plain": [
       "4.5397868702434395e-05"
      ]
     },
     "execution_count": 10,
     "metadata": {},
     "output_type": "execute_result"
    }
   ],
   "source": [
    "h(theta,x)"
   ]
  },
  {
   "cell_type": "markdown",
   "metadata": {},
   "source": [
    "Now, from our classifier definitions, we know the following probabilities [1]:\n",
    "$$ Pr(y = 1 |x;\\theta ) = h(x) $$\n",
    "$$ Pr(y = 0 |x;\\theta ) = 1- h(x) $$\n",
    "\n",
    "And, from these, we can describe the likelihood $ L(\\theta) $ of the parameters, describing the probability that this training outcome was observed if the true parameter values are as given. The log likelihood is given by $ l(\\theta)  = log(L(\\theta)) $.\n",
    "\n",
    "To find the optimal set of parameters, we seek $\\theta$ that maximises $L(\\theta)$. Clearly, this will also maximise $l(\\theta)$"
   ]
  },
  {
   "cell_type": "markdown",
   "metadata": {},
   "source": [
    "Now, by some algebra [1], for logistic regression, the log likelihood function is given by:\n",
    "$$ l(\\theta)=\\sum_{i=1}^{n}y^{(i)}log\\, h(x^{(i)})\\, +\\, (1-y^{(i)})log(1-h(x^{(i)}))  $$\n",
    "Let's implement this as a function:"
   ]
  },
  {
   "cell_type": "code",
   "execution_count": 11,
   "metadata": {},
   "outputs": [],
   "source": [
    "def log_likelihood(theta, X, Y):\n",
    "    total = 0\n",
    "    for i in range(X.shape[0]):\n",
    "        total+=Y[i]*np.log(h(theta,np.array(X[i])))+(1-Y[i])*np.log(1-h(theta,np.array(X[i])))\n",
    "    return total"
   ]
  },
  {
   "cell_type": "markdown",
   "metadata": {},
   "source": [
    "And, let's test a dataset:"
   ]
  },
  {
   "cell_type": "code",
   "execution_count": 12,
   "metadata": {},
   "outputs": [
    {
     "data": {
      "text/plain": [
       "-47.001022854253044"
      ]
     },
     "execution_count": 12,
     "metadata": {},
     "output_type": "execute_result"
    }
   ],
   "source": [
    "theta = np.array([1,3])\n",
    "X = np.array([[1,4],[2,5],[6,8]])\n",
    "Y = np.array([1,0,0,1])\n",
    "log_likelihood(theta,X,Y)"
   ]
  },
  {
   "cell_type": "markdown",
   "metadata": {},
   "source": [
    "Great! Now we just need a process to **maximise the log likelihood** function. One such method is gradient ascent. \n",
    "\n",
    "This involves increasing each value of theta such that the cost function will locally increase the most - i.e. changing each $ \\theta_j $ in the **direction of the log-likelihood's partial derivative with respect to $ \\theta_j $**"
   ]
  },
  {
   "cell_type": "markdown",
   "metadata": {},
   "source": [
    "And, per some calculus [1], this partial derivative for any $ \\theta_j $ is given by: $$ \\frac{\\partial l(\\theta)}{\\partial \\theta_j} = (y-h(x))x_j$$\n",
    "\n",
    "Now, we want to change theta by some 'rate' proportional to this partial derivative. The constant of proportionality is called the 'learning rate'.\n",
    "\n",
    "Let's define this:"
   ]
  },
  {
   "cell_type": "code",
   "execution_count": 13,
   "metadata": {},
   "outputs": [],
   "source": [
    "def step(theta,rate,x,y):\n",
    "    theta = theta + rate*(y-h(theta,x))*x\n",
    "    return theta"
   ]
  },
  {
   "cell_type": "markdown",
   "metadata": {},
   "source": [
    "Great! Now we can get to training and testing"
   ]
  },
  {
   "cell_type": "markdown",
   "metadata": {},
   "source": [
    "### Training and Testing"
   ]
  },
  {
   "cell_type": "markdown",
   "metadata": {},
   "source": [
    "Training is simply the process of running a number of iterations of this step process. To show how this works for a small set of parameters, let's generate two classes of data randomly"
   ]
  },
  {
   "cell_type": "code",
   "execution_count": 14,
   "metadata": {},
   "outputs": [
    {
     "name": "stdout",
     "output_type": "stream",
     "text": [
      "[1 1 1]\n",
      "[-7.91779223  1.21474517  0.44424733]\n"
     ]
    }
   ],
   "source": [
    "import random\n",
    "\n",
    "# Let's try training on some placeholder data\n",
    "theta = np.array([1,1,1])\n",
    "red = []\n",
    "blue = []\n",
    "\n",
    "# Let's generate some points\n",
    "\n",
    "# Red has class 1\n",
    "# Blue has class 0\n",
    "# Let's distribute red points around 20\n",
    "# Let's distribute blue points around 0\n",
    "\n",
    "for i in range(100):\n",
    "    x = np.random.normal(20,2) # Sampling from Gaussian distribution around 20\n",
    "    y = np.random.normal(20,2)\n",
    "    red.append([1,x,y])\n",
    "  \n",
    "red = np.array(red)\n",
    "\n",
    "for i in range(100):\n",
    "    x = np.random.normal(0,2) # Sampling from Gaussian distribution around 0\n",
    "    y = np.random.normal(0,2)\n",
    "    blue.append([1,x,y])\n",
    "    \n",
    "blue = np.array(blue)\n",
    "\n",
    "rate = 0.1\n",
    "print(theta)\n",
    "STEPS = 10000\n",
    "for i in range(STEPS):\n",
    "    for j in range(X.shape[0]):      \n",
    "        theta = step(theta,rate,red[j],1)\n",
    "        theta = step(theta,rate,blue[j],0)\n",
    "print(theta)\n"
   ]
  },
  {
   "cell_type": "markdown",
   "metadata": {},
   "source": [
    "Great! Now we have a trained model. Let's take a look at our decision boundary.\n",
    "The decision boundary give points with a hypothesis value of 0.5 - they fall between two classes. So solve: $$ h(x) = \\frac{1}{1+e^{\\theta^{T}X}} = \\frac{1}{2} $$ $$ 2 = 1 + e^{\\theta^{T}X} $$ $$ e^{\\theta^{T}X} = 1 $$ $$ \\theta^{T}X = 0 $$\n",
    "\n",
    "So we solve for when the weighted sum is zero and (for y = $ x_2 $) we get: $$ \\theta_2y + \\theta_1x_1 + \\theta_0 = 0 $$ $$ y = -\\frac{\\theta_1}{\\theta_2}x_1 -\\frac{\\theta_0}{\\theta_2} $$\n",
    "\n",
    "If we plot this, we get the following:"
   ]
  },
  {
   "cell_type": "code",
   "execution_count": 15,
   "metadata": {},
   "outputs": [
    {
     "data": {
      "image/png": "[encoded data removed]",
      "text/plain": [
       "<Figure size 432x288 with 1 Axes>"
      ]
     },
     "metadata": {
      "needs_background": "light"
     },
     "output_type": "display_data"
    }
   ],
   "source": [
    "Xaxis = np.arange(-20., 20., 0.2)\n",
    "line = []\n",
    "for i in Xaxis:\n",
    "    line.append(-theta[1]*i/theta[2] - theta[0]/theta[2])\n",
    "plt.plot(Xaxis, line)\n",
    "\n",
    "x = [red[i][1] for i in range(len(red))]\n",
    "y = [red[i][2] for i in range(len(red))]\n",
    "plt.plot(x, y, 'r+')\n",
    "\n",
    "x2 = [blue[i][1] for i in range(len(blue))]\n",
    "y2 = [blue[i][2] for i in range(len(blue))]\n",
    "plt.plot(x2, y2, 'b+')\n",
    "plt.show()"
   ]
  },
  {
   "cell_type": "markdown",
   "metadata": {},
   "source": [
    "Nice! Our two groups have been clearly separated by the line and the line is fairly far from both groups. \n",
    "\n",
    "**NOTE**: *This process was repeated a few times to get a good fit for the line. I didn't want to spend a lot of time fiddling with hyperparameters and working with large numbers of samples which may have been required given this data's truly random nature.*\n",
    "\n",
    "Let's check what the hypothesis is at x=10 - between the two means:"
   ]
  },
  {
   "cell_type": "code",
   "execution_count": 16,
   "metadata": {},
   "outputs": [
    {
     "data": {
      "text/plain": [
       "0.9998287359499409"
      ]
     },
     "execution_count": 16,
     "metadata": {},
     "output_type": "execute_result"
    }
   ],
   "source": [
    "h(theta,[1,10,10])"
   ]
  },
  {
   "cell_type": "markdown",
   "metadata": {},
   "source": [
    "As expected, this is fairly close to 0.5. In reality, per the random variable definitions, the point (x,y)=(10,10) is equally likely to be a member of either class. \n",
    "\n",
    "We can test this model more thoroughly by running some already-classified test data through. This **must be different to the training data** or else the results obtained will not reflect its predictive ability"
   ]
  },
  {
   "cell_type": "code",
   "execution_count": 17,
   "metadata": {},
   "outputs": [
    {
     "name": "stdout",
     "output_type": "stream",
     "text": [
      "0.99942\n"
     ]
    }
   ],
   "source": [
    "total = 0\n",
    "TESTS = 100000\n",
    "for i in range(TESTS):\n",
    "    redx = np.random.normal(20,2)\n",
    "    redy = np.random.normal(20,2)\n",
    "    bluex = np.random.normal(0,2)\n",
    "    bluey = np.random.normal(0,2)\n",
    "    r = [1,redx,redy]\n",
    "    b = [1,bluex,bluey]\n",
    "    \n",
    "    if h(theta,r)>=0.5:\n",
    "        total+=1\n",
    "    if h(theta,b)<0.5:\n",
    "        total+=1\n",
    "        \n",
    "print(total/(TESTS*2))\n",
    "    "
   ]
  },
  {
   "cell_type": "markdown",
   "metadata": {},
   "source": [
    "So, our model predicts the classes of sampled points with 99.9% accuracy. This makes sense because the standard deviation of our distributions are fairly low so overlap between the Gaussian distributions should be minimal\n",
    "\n",
    "NOTE: The modelling of this completely random data isn't very sound probabilistically - we aren't modelling Gaussian error but instead a variable that has Gaussian distribution. However, the effect of these is very similar."
   ]
  },
  {
   "cell_type": "markdown",
   "metadata": {},
   "source": [
    "### Wine Classification"
   ]
  },
  {
   "cell_type": "markdown",
   "metadata": {},
   "source": [
    "With all our tools set up, let's repeat this for the wine data:"
   ]
  },
  {
   "cell_type": "code",
   "execution_count": 18,
   "metadata": {},
   "outputs": [
    {
     "data": {
      "text/plain": [
       "Index(['fixed acidity', 'volatile acidity', 'citric acid', 'residual sugar',\n",
       "       'chlorides', 'free sulfur dioxide', 'total sulfur dioxide', 'density',\n",
       "       'pH', 'sulphates', 'alcohol'],\n",
       "      dtype='object')"
      ]
     },
     "execution_count": 18,
     "metadata": {},
     "output_type": "execute_result"
    }
   ],
   "source": [
    "whiteInfo = np.array(whiteWines)\n",
    "redInfo = np.array(redWines)\n",
    "\n",
    "# Adds a column of 1s to the data - needed for constant parameter\n",
    "whiteInfo = np.insert(whiteInfo,0,1,axis=1)\n",
    "redInfo = np.insert(redInfo,0,1,axis=1)\n",
    "\n",
    "whiteWines.columns # Available data"
   ]
  },
  {
   "cell_type": "markdown",
   "metadata": {},
   "source": [
    "Now let's train our model (optimise parameters):"
   ]
  },
  {
   "cell_type": "code",
   "execution_count": 19,
   "metadata": {},
   "outputs": [
    {
     "name": "stdout",
     "output_type": "stream",
     "text": [
      "[1. 1. 1. 1. 1. 1. 1. 1. 1. 1. 1. 1.]\n",
      "[ 144.3804847   -26.96398501 -385.25260103   38.06873149   10.47426644\n",
      "  -89.43356776   -1.97519062    2.43600757  134.20025537  -46.48858353\n",
      " -293.14478752   20.1141584 ]\n"
     ]
    }
   ],
   "source": [
    "theta = np.ones(len(redInfo[0]))\n",
    "rate = 0.01\n",
    "print(theta)\n",
    "STEPS = 10000\n",
    "for i in range(STEPS):\n",
    "    for j in range(1000):      \n",
    "        # Processes a white wine - Class 1\n",
    "        theta = step(theta,rate,whiteInfo[j],1)\n",
    "        # Processes a red wine - Class 0\n",
    "        theta = step(theta,rate,redInfo[j],0)\n",
    "print(theta)"
   ]
  },
  {
   "cell_type": "markdown",
   "metadata": {},
   "source": [
    "Compared to the previous example, we can't plot the classification boundary for this dataset because it is represented by a hyperplane in n-dimensional space where n is the number of characteristics"
   ]
  },
  {
   "cell_type": "markdown",
   "metadata": {},
   "source": [
    "And now for testing:"
   ]
  },
  {
   "cell_type": "code",
   "execution_count": 20,
   "metadata": {},
   "outputs": [],
   "source": [
    "def test(theta,start_i,end_i):\n",
    "    total = 0\n",
    "    for i in range(start_i,end_i):\n",
    "    # Process white wines\n",
    "        if (h(theta,whiteInfo[i])>=0.5):\n",
    "            total+=1\n",
    "    # Process red wines\n",
    "        if (h(theta,redInfo[i])<0.5):\n",
    "            total+=1\n",
    "    print(total/(2*(end_i-start_i)))"
   ]
  },
  {
   "cell_type": "markdown",
   "metadata": {},
   "source": [
    "We used the first 1000 entries for training so let's test on the other datapoints:"
   ]
  },
  {
   "cell_type": "code",
   "execution_count": 21,
   "metadata": {},
   "outputs": [
    {
     "name": "stdout",
     "output_type": "stream",
     "text": [
      "0.9682804674457429\n"
     ]
    }
   ],
   "source": [
    "test(theta,1000,1599)"
   ]
  },
  {
   "cell_type": "markdown",
   "metadata": {},
   "source": [
    "Not Bad. Some simple iteration and a little bit of calculus allow us to relate a linear combination of characteristics with a datapoint's correct class. And 96.8% correct is fairly good; certainly better than an uninformed human could do from such a large set of data."
   ]
  },
  {
   "cell_type": "markdown",
   "metadata": {},
   "source": [
    "If we test on our training data, we get a higher (**inaccurate**) result because the training specifically optimised over this data:"
   ]
  },
  {
   "cell_type": "code",
   "execution_count": 22,
   "metadata": {},
   "outputs": [
    {
     "name": "stdout",
     "output_type": "stream",
     "text": [
      "0.975\n"
     ]
    }
   ],
   "source": [
    "test(theta,0,1000)"
   ]
  },
  {
   "cell_type": "markdown",
   "metadata": {},
   "source": [
    "### Closing Thoughts"
   ]
  },
  {
   "cell_type": "markdown",
   "metadata": {},
   "source": [
    "Just like linear regression, logistic regression is a very useful technique which arises from **fairly simple principles**. By the **power of classification**, data patterns can be modelled and valuable predictions made. And, as with linear regression, these standard techniques shouldn't be immediately discarded for more advanced (and more complicated) ones.\n",
    "______________\n",
    "Stay tuned to my ***Github*** - [HydraulicSheep](https://github.com/HydraulicSheep) - for explorations of more great ***Game Theory*** and ***Statistics*** content."
   ]
  }
 ],
 "metadata": {
  "kernelspec": {
   "display_name": "Python 3",
   "language": "python",
   "name": "python3"
  },
  "language_info": {
   "codemirror_mode": {
    "name": "ipython",
    "version": 3
   },
   "file_extension": ".py",
   "mimetype": "text/x-python",
   "name": "python",
   "nbconvert_exporter": "python",
   "pygments_lexer": "ipython3",
   "version": "3.9.0"
  }
 },
 "nbformat": 4,
 "nbformat_minor": 4
}
