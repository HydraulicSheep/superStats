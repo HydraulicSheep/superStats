{
 "cells": [
  {
   "cell_type": "markdown",
   "metadata": {},
   "source": [
    "# Function Approximation with Neural Networks"
   ]
  },
  {
   "cell_type": "markdown",
   "metadata": {},
   "source": [
    "One significant use of neural networks is in **approximating** the values of **continuous functions**. Particularly in areas like Deep Reinforcement Learning over continuous/high-dimensional state-spaces. \n",
    "\n",
    "For example, **Reinforcement Learning** algorithms like **Deep Q Learning** or **Fitted Value Iteration** can use neural networks to approximate Q functions, policies or value functions."
   ]
  },
  {
   "cell_type": "markdown",
   "metadata": {},
   "source": [
    "### References\n",
    "\n",
    "[1] Cybenko, G. (1989). Approximation by superpositions of a sigmoidal function. Mathematics of Control, Signals, and Systems, 2(4), 303–314. doi:10.1007/bf02551274 \n",
    "\n",
    "[2] https://en.wikipedia.org/wiki/Backpropagation"
   ]
  },
  {
   "cell_type": "markdown",
   "metadata": {},
   "source": [
    "## A Universal Approximation Theorem"
   ]
  },
  {
   "cell_type": "markdown",
   "metadata": {},
   "source": [
    "In the context of Artificial Neural Networks, universal approximation theorems concern the ability of feedforward networks to approximate certain classes of functions. Let us take a look at one specific class of neural networks - those with a single hidden layer of neurons with sigmoidal activation functions.\n",
    "\n",
    "We say that any function $\\sigma$ is sigmoidal if  $$ \\sigma (t) \\to  \\left\\{\n",
    "\\begin{array}{ll}\n",
    "      1\\ as\\ t \\to \\infty\\\\\n",
    "      0\\ as\\ t \\to -\\infty\\\\\n",
    "\\end{array} \n",
    "\\right. $$\n",
    "\n",
    "We let $I_n$ denote the n-dimensional unit cube <br /> The space of continuous functions on $I_n$ is denoted by $C(I_n)$ **[1]**\n",
    "\n",
    "One **specific theorem** is as following **[1]**:\n",
    "\n",
    "\n",
    "\n",
    "Let $\\sigma$ be any continuous discriminatory function. Then finite sums of the form $$ G(x) = \\sum_{j=1}^{N}\\alpha_j\\sigma(y_j^Tx + \\theta_j) $$ are dense in $C(I_n))$. In other words, given any $f \\in C(I_n)$ and $\\epsilon > 0$, there is a sum, $G(x)$, of the above form for which $$ |G(x)-f(x)| < \\epsilon\\quad \\textrm{for all}\\quad x \\in I_n$$\n",
    "\n",
    "<br />\n",
    "<br />\n",
    "\n",
    "This theorem is given and proven in **[1]**.\n",
    "\n",
    "Subsequently, a **lemma** is proven, stating that \"**Any bounded, measurable sigmoidal function, $\\sigma$, is discriminatory**. In particular, any continuous sigmoidal function is discriminatory.\"\n",
    "(The paper also proves a result related to decision functions - i.e. classification - but this is less relevant to us) **[1]**.\n",
    "<br />\n",
    "\n",
    "**Therefore,** for an arbitrary precision level, there exists a single-layer neural network (with sigmoidal activation function) that approximates any continuous function on $I_n$.\n",
    "<br />\n",
    "<br />\n",
    "\n",
    "Now, for our practical purposes, this is more of a novelty; the theorem says nothing about the **required network size** or whether approximations can be obtained by **any specific learning algorithm**. \n",
    "\n",
    "Other such theorems build up support for the **existence** of neural networks as function approximators but let's look at some data to examine their practical performance under **standard learning algorithms** (i.e. backpropagation), "
   ]
  },
  {
   "cell_type": "markdown",
   "metadata": {},
   "source": [
    "## A Parabola"
   ]
  },
  {
   "cell_type": "markdown",
   "metadata": {},
   "source": [
    "Let's get a basic parabola:\n"
   ]
  },
  {
   "cell_type": "code",
   "execution_count": 1,
   "metadata": {},
   "outputs": [
    {
     "data": {
      "text/plain": [
       "<matplotlib.collections.PathCollection at 0x1076ed7f0>"
      ]
     },
     "execution_count": 1,
     "metadata": {},
     "output_type": "execute_result"
    },
    {
     "data": {
      "image/png": "[encoded data removed]",
      "text/plain": [
       "<Figure size 432x288 with 1 Axes>"
      ]
     },
     "metadata": {
      "needs_background": "light"
     },
     "output_type": "display_data"
    }
   ],
   "source": [
    "import matplotlib.pyplot as plt\n",
    "import numpy as np\n",
    "\n",
    "x = np.linspace(-50, 50, 100)\n",
    "y = x**2\n",
    "\n",
    "plt.scatter(x, y)\n",
    "\n"
   ]
  },
  {
   "cell_type": "markdown",
   "metadata": {},
   "source": [
    "Now let's try with a neural network."
   ]
  },
  {
   "cell_type": "markdown",
   "metadata": {},
   "source": [
    "### \\[Tangent\\] A Neural Network from Scratch"
   ]
  },
  {
   "cell_type": "markdown",
   "metadata": {},
   "source": [
    "As our target problem is fairly basic and doesn't require high-performance, let's attempt making a neural network from scratch.\n",
    "\n",
    "Here's a basic **Layer class**:"
   ]
  },
  {
   "cell_type": "code",
   "execution_count": 2,
   "metadata": {},
   "outputs": [],
   "source": [
    "from math import exp\n",
    "\n",
    "\n",
    "class Layer:\n",
    "    \n",
    "    def __init__(self, size):\n",
    "        self.neurons = []\n",
    "        self.size = size\n",
    "        self.next_layer = None\n",
    "        self.prev_layer = None\n",
    "        \n",
    "    def output(self):\n",
    "        \n",
    "        result = []\n",
    "        \n",
    "        for neuron in self.neurons:\n",
    "            result.append(neuron.value)\n",
    "            \n",
    "        print(result)"
   ]
  },
  {
   "cell_type": "markdown",
   "metadata": {},
   "source": [
    "Here's a **Dense Layer** (a layer that's fully connected to all the nodes in the previous layer).\n",
    "\n",
    "It has a function to forward propagate inputs through the network:"
   ]
  },
  {
   "cell_type": "code",
   "execution_count": 3,
   "metadata": {},
   "outputs": [],
   "source": [
    "class DenseLayer(Layer):\n",
    "    \n",
    "    \n",
    "    def __init__(self, neuron_count, activation_function, prev_layer):\n",
    "        \n",
    "        super().__init__(neuron_count)\n",
    "        \n",
    "        \n",
    "        # Handle connection with previous layer\n",
    "        self.prev_layer = prev_layer\n",
    "        prev_layer.next_layer = self\n",
    "        \n",
    "        # Creates Neurons\n",
    "        for i in range(neuron_count):\n",
    "            \n",
    "            new_neuron = Neuron(activation_function, np.random.rand(prev_layer.size), np.random.rand())\n",
    "            \n",
    "            self.neurons.append(new_neuron)\n",
    "            \n",
    "            # Connects this neuron in a dense fashion to the previous layer\n",
    "            for neuron in prev_layer.neurons:\n",
    "                \n",
    "                new_neuron.back_conns.append(neuron)\n",
    "                neuron.forward_conns.append(new_neuron)\n",
    "                \n",
    "    def forward_propagate(self):\n",
    "\n",
    "        for i in self.neurons:\n",
    "            i.process()\n",
    "            i.send_forward()\n",
    "\n",
    "        if self.next_layer:\n",
    "            self.next_layer.forward_propagate()\n",
    "            "
   ]
  },
  {
   "cell_type": "markdown",
   "metadata": {},
   "source": [
    "Here's an **Input Layer**. It stores input values for the neurons and doesn't perform any processing on its neurons."
   ]
  },
  {
   "cell_type": "code",
   "execution_count": 4,
   "metadata": {},
   "outputs": [],
   "source": [
    "class InputLayer(Layer):\n",
    "    \n",
    "    def __init__(self, input_size):\n",
    "        \n",
    "        super().__init__(input_size)\n",
    "        \n",
    "        for i in range(input_size):\n",
    "            self.neurons.append(Neuron())\n",
    "    \n",
    "    def forward_propagate(self, input):\n",
    "        \n",
    "             \n",
    "        if len(input) != len(self.neurons):\n",
    "            print('Input Dimension Error!')\n",
    "            return\n",
    "        \n",
    "        for i in range(len(input)):\n",
    "            self.neurons[i].value = input[i]\n",
    "            self.neurons[i].send_forward()\n",
    "            \n",
    "        if self.next_layer:\n",
    "            self.next_layer.forward_propagate()\n",
    "        "
   ]
  },
  {
   "cell_type": "markdown",
   "metadata": {},
   "source": [
    "Here's our all-important **Neuron Class**. This actually **performs the activations** and **carries values** to the next layer."
   ]
  },
  {
   "cell_type": "code",
   "execution_count": 5,
   "metadata": {},
   "outputs": [],
   "source": [
    "\n",
    "\n",
    "class Neuron:\n",
    "    \n",
    "    def __init__(self, activation_function=None, weight=None, bias=None):\n",
    "        \n",
    "        self.forward_conns = []\n",
    "        self.back_conns = []\n",
    "        self.weight = weight\n",
    "        self.bias = bias\n",
    "        self.input = []\n",
    "        self.activation_function = activation_function\n",
    "        self.value = None\n",
    "    \n",
    "    def process(self):\n",
    "        \n",
    "        arr = np.array(self.input)\n",
    "        \n",
    "        if len(self.input) == 0:\n",
    "            print('Error! Uninitialised Node.')\n",
    "            return\n",
    "        \n",
    "        if self.activation_function == None:\n",
    "            print('No Activation Function')\n",
    "            return\n",
    "        \n",
    "        if arr.shape != self.weight.shape:\n",
    "            print('Invalid Weight')\n",
    "            print(self.weight) \n",
    "            print(arr)\n",
    "            return\n",
    "        \n",
    "        if self.bias == None:\n",
    "            print('Invalid Bias')\n",
    "            return\n",
    "        \n",
    "        \n",
    "        \n",
    "        \n",
    "        result = np.dot(arr,self.weight) + self.bias\n",
    "        self.value = self.activation_function(result)\n",
    "        \n",
    "            \n",
    "    def send_forward(self):\n",
    "        for neuron in self.forward_conns:\n",
    "            neuron.input.append(self.value)"
   ]
  },
  {
   "cell_type": "markdown",
   "metadata": {},
   "source": [
    "And here are our **activation function** implementations - **RELU** and its **derivative**."
   ]
  },
  {
   "cell_type": "code",
   "execution_count": 6,
   "metadata": {},
   "outputs": [],
   "source": [
    "def relu(val):\n",
    "    return max(0,val)\n",
    "        \n",
    "def relu_derivative(val):\n",
    "    if val > 0:\n",
    "        return 1\n",
    "    return 0"
   ]
  },
  {
   "cell_type": "markdown",
   "metadata": {},
   "source": [
    "Let's test out the operation of our network:\n",
    "This text-network has 4 layers - **Input**, 2 **8-neuron hidden layers**, **1-neuron Output**"
   ]
  },
  {
   "cell_type": "code",
   "execution_count": 7,
   "metadata": {},
   "outputs": [],
   "source": [
    "first_layer = InputLayer(4)\n",
    "prev_layer = first_layer\n",
    "for i in range(2):\n",
    "    layer = DenseLayer(8, relu, prev_layer)\n",
    "    prev_layer = layer\n",
    "last_layer = DenseLayer(1, relu, prev_layer)"
   ]
  },
  {
   "cell_type": "code",
   "execution_count": 8,
   "metadata": {},
   "outputs": [],
   "source": [
    "first_layer.forward_propagate([1,2,3,4])"
   ]
  },
  {
   "cell_type": "code",
   "execution_count": 9,
   "metadata": {},
   "outputs": [
    {
     "name": "stdout",
     "output_type": "stream",
     "text": [
      "[1, 2, 3, 4]\n",
      "[65.77272804941441]\n"
     ]
    }
   ],
   "source": [
    "first_layer.output()\n",
    "last_layer.output()"
   ]
  },
  {
   "cell_type": "markdown",
   "metadata": {},
   "source": [
    "So it works simply enough: we put some values in, they get forward propagated, then we get output."
   ]
  },
  {
   "cell_type": "markdown",
   "metadata": {},
   "source": [
    "## A Derivation of Backpropagation"
   ]
  },
  {
   "cell_type": "markdown",
   "metadata": {},
   "source": [
    "Now that we've achieved basic forward propagation with arbitrary activation functions between dense layers, let's consider what our cost function could look like for function approximation."
   ]
  },
  {
   "cell_type": "markdown",
   "metadata": {},
   "source": [
    "We're performing a regression-style problem so, like with linear regression, let's try squared error:"
   ]
  },
  {
   "cell_type": "markdown",
   "metadata": {},
   "source": [
    "**NOTE:** Differing from the theorem above, we target a **RELU activation function** because it helps mitigate certain training issues like **vanishing gradients**. \n",
    "\n",
    "Let's outline a derivation ( Wikipedia's **[2]** sigmoidal derivation as a guide):\n",
    "\n",
    "$$ Let\\ R(x)=\\left\\{\n",
    "\\begin{array}{ll}\n",
    "      0 & x \\leq 0\\\\\n",
    "      x & x > 0\\\\\n",
    "\\end{array} \n",
    "\\right. \\ be\\ the\\ RELU\\ activation\\ function$$\n",
    "\n",
    "Let's use a Least Squares Loss Function (like we would in linear regression)\n",
    "\n",
    "$$ Let\\ L(y,\\hat{y}) = (y-\\hat{y})^2\\ be\\ our\\ loss\\ function,\\quad \\hat{y}\\ is\\ the\\ network's\\ estimate,\\quad y\\ is\\ the\\ true\\ value $$\n",
    "\n",
    "\n",
    "$$ Let\\ w\\ and\\ b\\ represent\\ the\\ network's\\ weights\\ and\\ biases\\ respectively$$\n",
    "The output of some neuron j is given by:\n",
    "$$ o_j = R((\\sum_{k=1}^{n}w_{kj}o_{k}) + b_j)$$\n",
    "\n",
    "Now:\n",
    "\n",
    "$$ \\frac{d R(x)}{dx}= \\left\\{\n",
    "\\begin{array}{ll}\n",
    "      0 & x < 0\\\\\n",
    "      1 & x > 0\\\\\n",
    "      Undefined & x = 0\\\\\n",
    "\\end{array} \n",
    "\\right. $$\n",
    "\n",
    "Now, as we can see, the derivative is not defined at x=0, so in practice we often just assign a 0 or 1 value for it.\n",
    "\n",
    "\n",
    "Let's now calculate the derivative of the loss function with respect to the weights and biases:\n",
    "\n",
    "First, the weights (using the chain rule for partial derivatives):\n",
    "\n",
    "$$ \\frac{\\partial L}{\\partial w_{ij}} = \\frac{\\partial L}{\\partial o_{j}}\\frac{\\partial o_{j}}{\\partial w_{ij}} = \\frac{\\partial L}{\\partial o_{j}}\\frac{\\partial o_{j}}{\\partial\\ linear_{j}}\\frac{\\partial\\ linear_{j}}{\\partial w_{ij}}\\quad where\\ linear_{j}\\ is\\ the\\ linear\\ input\\ to\\ the\\ RELU\\ function\\ for\\ neuron\\ j\\quad (1)$$\n",
    "\n",
    "$$ \\frac{\\partial\\ linear_{j}}{\\partial w_{ij}} =  \\frac{\\partial}{\\partial w_{ij}}((\\sum_{k=1}^{n}w_{kj}o_{k}) + b_j) =  \\frac{\\partial}{\\partial w_{ij}}w_{ij}o_{i} = o_i\\quad (2)$$\n",
    "\n",
    "$$ \\frac{\\partial o_j}{\\partial\\ linear_{j}} = \\frac{\\partial\\ R(linear_{j})}{\\partial\\ linear_{j}} = \\left\\{\\begin{array}{ll}\n",
    "      0 & linear_{j} < 0\\\\\n",
    "      1 & linear_{j} > 0\\\\\n",
    "      Undefined & linear_{j} = 0\\\\\n",
    "\\end{array} \n",
    "\\right. \\quad (shown\\ above)\\quad (3)$$\n",
    "\n",
    "\n",
    "Secondly, the biases (using the chain rule for partial derivatives):\n",
    "\n",
    "$$ \\frac{\\partial L}{\\partial b_{j}} = \\frac{\\partial E}{\\partial o_{j}}\\frac{\\partial o_{j}}{\\partial b_{j}} = \\frac{\\partial E}{\\partial o_{j}}\\frac{\\partial o_{j}}{\\partial\\ linear_{j}}\\frac{\\partial\\ linear_{j}}{\\partial b_{j}}\\quad (4)$$\n",
    "\n",
    "$$ \\frac{\\partial\\ linear_{j}}{\\partial b_{j}} =  \\frac{\\partial}{\\partial b_{j}}((\\sum_{k=1}^{n}w_{kj}o_{k}) + b_j) =  1\\quad (5)$$\n",
    "\n",
    "**NOTE**:  The output layer has the identity function as an activation so $\\frac{\\partial o_{t}}{\\partial\\ linear_{t}} = 1$ for any neuron $t$ in the output layer).\n",
    "\n",
    "\n",
    "Now, here comes the genius of backpropagation:\n",
    "\n",
    "In the last (output) layer - a single node for our network,   $ o_j = \\hat{y} $\n",
    "\n",
    "So: \n",
    "\n",
    "$$ \\frac{\\partial L}{\\partial o_j} = \\frac{\\partial L}{\\partial \\hat{y}} = \\frac{\\partial }{\\partial \\hat{y}}(\\frac{1}{2}(y-\\hat{y})^2) = \\hat{y} - y\\quad (6)$$\n",
    "\n",
    "Now, if we consider j being a neuron in any other layer:\n",
    "\n",
    "L is still a function of $ o_j $ because L is dependent on all the neurons receiving input from j:\n",
    "\n",
    "So:\n",
    "\n",
    "$$ \\frac{\\partial L}{\\partial o_j} = \\frac{\\partial L(linear_a,linear_b, ...)}{\\partial o_j}\\ where\\ neurons\\ in\\ P=\\{ a,b,...\\}\\ receive\\ input from\\ neuron\\ j $$\n",
    "\n",
    "Now, the linear components are all functions of $o_j$ so are dependent on one another.\n",
    "\n",
    "Therefore we need to take the **total derivative** to find this:\n",
    "\n",
    "$$ \\frac{\\partial L}{\\partial o_j} = \\sum_{p \\in P}(\\frac{\\partial L}{\\partial linear_p}\\frac{\\partial linear_p}{\\partial o_j}) = \\sum_{p \\in P}(\\frac{\\partial L}{\\partial o_p}\\frac{\\partial o_p}{\\partial linear_p}\\frac{\\partial linear_p}{\\partial o_j}) = \\sum_{p \\in P}(\\frac{\\partial L}{\\partial o_p}\\frac{\\partial o_p}{\\partial linear_p}w_{jp}) \\quad (7)$$\n",
    "\n",
    "So this term is recursively dependent on those of neurons in P.\n",
    "\n",
    "Now we have everything we need to find our partial derivatives for gradient descent.\n",
    "\n",
    "**For the weights:**\n",
    "\n",
    "Using Equations, 1,2,3,4,5:\n",
    "\n",
    "$$\\frac{\\partial L}{\\partial w_{ij}}  = \\frac{\\partial L}{\\partial o_{j}}\\frac{\\partial o_{j}}{\\partial\\ linear_{j}}\\frac{\\partial\\ linear_{j}}{\\partial w_{ij}} = \\frac{\\partial L}{\\partial o_{j}}\\frac{\\partial o_{j}}{\\partial\\ linear_{j}}o_i$$\n",
    "\n",
    "And we assign:\n",
    "\n",
    "$$\\delta_j = \\frac{\\partial L}{\\partial o_{j}}\\frac{\\partial o_{j}}{\\partial\\ linear_{j}} =   \n",
    "\\left\\{\n",
    "\\begin{array}{ll}\n",
    "      (o_j-\\hat{y}) & if\\ j\\ is\\ an\\ output\\ neuron\\\\\n",
    "      (\\sum_{p\\in P}(\\frac{\\partial L}{\\partial o_p}\\frac{\\partial o_p}{\\partial linear_p}w_{jp}))\\frac{d R(o_j)}{do_j} & if\\ j\\ is\\ an\\ inner\\ neuron\\\\\n",
    "\\end{array} \n",
    "\\right. \n",
    "= \\left\\{\n",
    "\\begin{array}{ll}\n",
    "      (o_j-\\hat{y}) & if\\ j\\ is\\ an\\ output\\ neuron\\\\\n",
    "      (\\sum_{p\\in P}(w_{jp}\\delta_{p}))\\frac{d R(o_j)}{do_j} & if\\ j\\ is\\ an\\ inner\\ neuron\\\\\n",
    "\\end{array} \n",
    "\\right. \n",
    "$$\n",
    "\n",
    "\n",
    "**Let's do the same with biases:**\n",
    "\n",
    "$$\\frac{\\partial L}{\\partial b_{j}}  = \\frac{\\partial L}{\\partial o_{j}}\\frac{\\partial o_{j}}{\\partial\\ linear_{j}}\\frac{\\partial\\ linear_{j}}{\\partial b_{j}} = \\frac{\\partial L}{\\partial o_{j}}\\frac{\\partial o_{j}}{\\partial\\ linear_{j}}$$\n",
    "\n",
    "So:\n",
    "\n",
    "$$\\frac{\\partial L}{\\partial w_{ij}} = o_i\\delta_j $$\n",
    "\n",
    "$$\\frac{\\partial L}{\\partial b_{j}} = \\delta_j $$\n",
    "\n",
    "Now we can perform gradient descent to improve our neural network over time by 'back-propagating' through the network and adjusting weights/biases proportional to the negative of these derivatives. The constand of proportionality is called the **'learning rate'**."
   ]
  },
  {
   "cell_type": "markdown",
   "metadata": {},
   "source": [
    "## Putting it All Together"
   ]
  },
  {
   "cell_type": "markdown",
   "metadata": {},
   "source": [
    "Here's our main **Layer Class** once again. We've added a **layer_info** method to help with debugging"
   ]
  },
  {
   "cell_type": "code",
   "execution_count": 38,
   "metadata": {},
   "outputs": [],
   "source": [
    "from math import exp\n",
    "from math import sqrt\n",
    "\n",
    "class Layer:\n",
    "    \n",
    "    def __init__(self, size):\n",
    "        self.neurons = []\n",
    "        self.size = size\n",
    "        self.next_layer = None\n",
    "        self.prev_layer = None\n",
    "        \n",
    "    def output(self):\n",
    "        \n",
    "        result = []\n",
    "        \n",
    "        for neuron in self.neurons:\n",
    "            result.append(neuron.result)\n",
    "            \n",
    "        print(result)\n",
    "        \n",
    "    def layer_info(self):\n",
    "        \n",
    "        if self.prev_layer == None:\n",
    "            print('Input Layer')\n",
    "            return\n",
    "        \n",
    "        for i in range(len(self.neurons)):\n",
    "            print('%d: %f' % (i, self.neurons[i].bias))\n",
    "            print(self.neurons[i].weight)\n",
    "                "
   ]
  },
  {
   "cell_type": "markdown",
   "metadata": {},
   "source": [
    "Our Dense Layer now has a **back_propagate** method to perform the **back propagation calculations** and a **store_weights** method to allow **updating** each neuron's parameters **in batches**."
   ]
  },
  {
   "cell_type": "code",
   "execution_count": 39,
   "metadata": {},
   "outputs": [],
   "source": [
    "class DenseLayer(Layer):\n",
    "    \n",
    "    \n",
    "    def __init__(self, neuron_count, activation_function, prev_layer):\n",
    "        \n",
    "        super().__init__(neuron_count)\n",
    "        \n",
    "        \n",
    "        # Handle connection with previous layer\n",
    "        self.prev_layer = prev_layer\n",
    "        prev_layer.next_layer = self\n",
    "        \n",
    "        # Creates Neurons\n",
    "        for i in range(neuron_count):\n",
    "            \n",
    "            # This is a half-hearted attempt at Xavier initialization. \n",
    "            # We don't have the number of nodes in the next layer yet so just take fan_in as a poor approximation.\n",
    "            fan_in = len(prev_layer.neurons)**2\n",
    "            coeff = sqrt(6)/sqrt(fan_in)\n",
    "            \n",
    "            new_neuron = Neuron(activation_function, (np.random.rand(prev_layer.size)-0.5)*2*coeff, (np.random.rand()-0.5))\n",
    "            \n",
    "            self.neurons.append(new_neuron)\n",
    "            \n",
    "            # Connects this neuron in a dense fashion to the previous layer\n",
    "            for neuron in prev_layer.neurons:\n",
    "                \n",
    "                new_neuron.back_conns.append(neuron)\n",
    "                neuron.forward_conns.append(new_neuron)\n",
    "                \n",
    "    def forward_propagate(self,layer):\n",
    "        \n",
    "\n",
    "        for i in self.neurons:\n",
    "            i.process()\n",
    "            i.send_forward()\n",
    "\n",
    "        if self.next_layer:\n",
    "            self.next_layer.forward_propagate(layer+1)\n",
    "            \n",
    "    def back_propagate(self,true):\n",
    "        \n",
    "        for i in range(len(self.neurons)):\n",
    "            self.neurons[i].backprop(true,i)\n",
    "            \n",
    "        self.prev_layer.back_propagate(true)\n",
    "        \n",
    "    def store_weights(self):\n",
    "        \n",
    "        for neuron in self.neurons:\n",
    "            neuron.store_weights()\n",
    "            \n",
    "        if self.next_layer != None:\n",
    "            self.next_layer.store_weights()"
   ]
  },
  {
   "cell_type": "markdown",
   "metadata": {},
   "source": [
    "The **Input Layer class** now has placeholder **back_propagate** and **store_weights** methods which allow these actions to be called recursively for the next layers."
   ]
  },
  {
   "cell_type": "code",
   "execution_count": 40,
   "metadata": {},
   "outputs": [],
   "source": [
    "class InputLayer(Layer):\n",
    "    \n",
    "    def __init__(self, input_size):\n",
    "        \n",
    "        super().__init__(input_size)\n",
    "        \n",
    "        for i in range(input_size):\n",
    "            self.neurons.append(Neuron())\n",
    "    \n",
    "    def forward_propagate(self, input):\n",
    "        \n",
    "        \n",
    "        if len(input) != len(self.neurons):\n",
    "            print('Input Dimension Error!')\n",
    "            return\n",
    "        \n",
    "        for i in range(len(input)):\n",
    "            self.neurons[i].value = input[i]\n",
    "            self.neurons[i].send_forward()\n",
    "            \n",
    "        if self.next_layer:\n",
    "            self.next_layer.forward_propagate(1)\n",
    "            \n",
    "    # The input layer doesn't need to perform backprop\n",
    "    def back_propagate(self, true):\n",
    "        return\n",
    "    \n",
    "    def store_weights(self):\n",
    "        if self.next_layer != None:\n",
    "            self.next_layer.store_weights()"
   ]
  },
  {
   "cell_type": "markdown",
   "metadata": {},
   "source": [
    "Our **Neuron Class** now has methods to **backpropagate** and to **update the weights** after **a batch** of samples has been entered."
   ]
  },
  {
   "cell_type": "code",
   "execution_count": 136,
   "metadata": {},
   "outputs": [],
   "source": [
    "class Neuron:\n",
    "    \n",
    "    def __init__(self, activation_function=None, weight=None, bias=None):\n",
    "        \n",
    "        self.forward_conns = []\n",
    "        self.back_conns = []\n",
    "        self.weight = weight\n",
    "        self.bias = bias\n",
    "        self.input = []\n",
    "        self.saved_input = None\n",
    "        self.activation_function = activation_function\n",
    "        self.value = None\n",
    "        self.delta = None\n",
    "        self.delta_weights = []\n",
    "        self.delta_bias = 0\n",
    "    \n",
    "    def process(self):\n",
    "        arr = np.array(self.input)\n",
    "        #print(self.input)\n",
    "        if len(self.input) == 0:\n",
    "            print('Error! Uninitialised Node.')\n",
    "            return\n",
    "        \n",
    "        if self.activation_function == None:\n",
    "            print('No Activation Function')\n",
    "            return\n",
    "        \n",
    "        if arr.shape != self.weight.shape:\n",
    "            print('Invalid Weight')\n",
    "            print(self.weight) \n",
    "            print(arr)\n",
    "            return\n",
    "        \n",
    "        if self.bias == None:\n",
    "            print('Invalid Bias')\n",
    "            return\n",
    "        \n",
    "        \n",
    "        \n",
    "        self.result = np.dot(arr,self.weight) + self.bias\n",
    "        self.saved_input = self.input\n",
    "        self.input = []\n",
    "        self.value = self.activation_function(self.result)\n",
    "        \n",
    "    def backprop(self, true, j):\n",
    "        if len(self.forward_conns) == 0:\n",
    "            self.delta = (self.value-true) # removed *self.value*(1-self.value) because output is identity function\n",
    "            \n",
    "        else:\n",
    "            delta_sum = 0\n",
    "            for i in self.forward_conns:\n",
    "                delta_sum += i.delta*i.weight[j]\n",
    "            self.delta = delta_sum*relu_derivative(self.value)\n",
    "            \n",
    "        \n",
    "        # Max and mins used for clipping gradients\n",
    "        \n",
    "        for i in range(len(self.weight)):\n",
    "            if len(self.delta_weights) > i: \n",
    "                self.delta_weights[i] += self.saved_input[i]*self.delta*-1*LEARNING_RATE\n",
    "                #self.delta_weights[i] = max(-100000,min(self.delta_weights[i],100000))\n",
    "                \n",
    "            else:\n",
    "                #self.delta_weights.append(max(-100000,min(100000,self.saved_input[i]*self.delta*-1*LEARNING_RATE)))\n",
    "                self.delta_weights.append(self.saved_input[i]*self.delta*-1*LEARNING_RATE)\n",
    "            \n",
    "        self.delta_bias += -1*LEARNING_RATE*self.delta\n",
    "            \n",
    "            \n",
    "    def send_forward(self):\n",
    "        for neuron in self.forward_conns:\n",
    "            neuron.input.append(self.value)\n",
    "    \n",
    "    def store_weights(self):\n",
    "        \n",
    "        if len(self.delta_weights) == 0:\n",
    "            print('Invalid stored weights')\n",
    "            return\n",
    "        \n",
    "        self.weight = np.add(self.weight,np.array(self.delta_weights))\n",
    "        self.bias += self.delta_bias\n",
    "        self.delta_bias = 0\n",
    "        self.delta_weights = []\n",
    "            "
   ]
  },
  {
   "cell_type": "markdown",
   "metadata": {},
   "source": [
    "And finally, our **identity function** - the **activation function for the output layer**."
   ]
  },
  {
   "cell_type": "code",
   "execution_count": 137,
   "metadata": {},
   "outputs": [],
   "source": [
    "def identity(val):\n",
    "    return val"
   ]
  },
  {
   "cell_type": "markdown",
   "metadata": {},
   "source": [
    "### Training Our Model"
   ]
  },
  {
   "cell_type": "markdown",
   "metadata": {},
   "source": [
    "Now it's time to **make our model**, **train** and **test**:"
   ]
  },
  {
   "cell_type": "code",
   "execution_count": 165,
   "metadata": {},
   "outputs": [],
   "source": [
    "LEARNING_RATE = 0.1"
   ]
  },
  {
   "cell_type": "code",
   "execution_count": 172,
   "metadata": {
    "scrolled": true
   },
   "outputs": [],
   "source": [
    "import random\n",
    "\n",
    "\n",
    "def train_and_test(epochs,first_layer, last_layer, domain_min, domain_max, test_set):\n",
    "    loss = []\n",
    "\n",
    "    # Create a large point dataset.\n",
    "    x = np.random.random_sample(10000)*(domain_max-domain_min) + domain_min\n",
    "    y = np.asarray([i**2.0 for i in x])\n",
    "\n",
    "    # Calculate min and max x&y values to normalise them between 0 and 1.\n",
    "    x_min = min(x)\n",
    "    x_max = max(x)\n",
    "    y_min = min(y)\n",
    "    y_max = max(y)\n",
    "\n",
    "    # Define normalised 'true value' of parabola.\n",
    "    a = lambda x: (x**2 - y_min)/(y_max-y_min)\n",
    "\n",
    "    # Train for some number of epochs.\n",
    "    for i in range(epochs):\n",
    "\n",
    "\n",
    "\n",
    "        # Select a random element from our dataset\n",
    "        x_val = x[random.randint(0,len(x)-1)]\n",
    "\n",
    "        # Normalise x to between 0 and 1.\n",
    "        x_norm = (x_val-x_min)/(x_max-x_min)\n",
    "\n",
    "        # Propagate normalised x through the network.\n",
    "        first_layer.forward_propagate([x_norm])\n",
    "        last_layer.back_propagate(a(x_val))\n",
    "\n",
    "        # Store losses to plot later\n",
    "        loss.append((last_layer.neurons[0].value-a(x_val))**2)\n",
    "\n",
    "        # Update parameters in batches of size 10.\n",
    "        if (i%10):\n",
    "            first_layer.store_weights()\n",
    "\n",
    "    # Plot the loss at each epoch.\n",
    "    plt.plot(np.array(loss))\n",
    "    plt.show()\n",
    "\n",
    "    test_outputs = []\n",
    "    total_error = 0\n",
    "    for i in test_set:\n",
    "        first_layer.forward_propagate([(i-x_min)/(x_max-x_min)])\n",
    "        test_outputs.append(last_layer.neurons[0].result*(y_max-y_min) + y_min)\n",
    "        total_error += ((last_layer.neurons[0].result*(y_max-y_min) + y_min) - i**2)**2\n",
    "\n",
    "    rmse = sqrt(total_error/len(test_set))\n",
    "    print('RMSE:',rmse)\n",
    "\n",
    "    plt.scatter(test_set,test_outputs)\n",
    "    plt.scatter(x,y)"
   ]
  },
  {
   "cell_type": "markdown",
   "metadata": {},
   "source": [
    "Let's test a variety of models, applying the same test set to ensure consistent testing across models:"
   ]
  },
  {
   "cell_type": "code",
   "execution_count": 179,
   "metadata": {},
   "outputs": [],
   "source": [
    "test_set = np.random.random_sample(10000)*(100-(-100)) + -100"
   ]
  },
  {
   "cell_type": "markdown",
   "metadata": {},
   "source": [
    " ### Different Layer Counts\n",
    " (all with 10000 epochs and a [-100,100] range)"
   ]
  },
  {
   "cell_type": "markdown",
   "metadata": {},
   "source": [
    "**2 Layer Network**"
   ]
  },
  {
   "cell_type": "code",
   "execution_count": 180,
   "metadata": {},
   "outputs": [
    {
     "data": {
      "image/png": "[encoded data removed]",
      "text/plain": [
       "<Figure size 432x288 with 1 Axes>"
      ]
     },
     "metadata": {
      "needs_background": "light"
     },
     "output_type": "display_data"
    },
    {
     "name": "stdout",
     "output_type": "stream",
     "text": [
      "RMSE: 351.62143527187743\n"
     ]
    },
    {
     "data": {
      "image/png": "[encoded data removed]",
      "text/plain": [
       "<Figure size 432x288 with 1 Axes>"
      ]
     },
     "metadata": {
      "needs_background": "light"
     },
     "output_type": "display_data"
    }
   ],
   "source": [
    "# Input of a single number\n",
    "first_layer = InputLayer(1)\n",
    "\n",
    "# Creates 2 Dense RELU Layers of 10 neurons\n",
    "prev_layer = first_layer\n",
    "for i in range(2):\n",
    "    layer = DenseLayer(10, relu, prev_layer)\n",
    "    prev_layer = layer\n",
    "\n",
    "\n",
    "# Output of a single number\n",
    "last_layer = DenseLayer(1,identity,prev_layer)\n",
    "train_and_test(10000, first_layer, last_layer, -100, 100, test_set)"
   ]
  },
  {
   "cell_type": "markdown",
   "metadata": {},
   "source": [
    "**3 Layer Network**"
   ]
  },
  {
   "cell_type": "code",
   "execution_count": 181,
   "metadata": {},
   "outputs": [
    {
     "data": {
      "image/png": "[encoded data removed]",
      "text/plain": [
       "<Figure size 432x288 with 1 Axes>"
      ]
     },
     "metadata": {
      "needs_background": "light"
     },
     "output_type": "display_data"
    },
    {
     "name": "stdout",
     "output_type": "stream",
     "text": [
      "RMSE: 254.88397801008884\n"
     ]
    },
    {
     "data": {
      "image/png": "[encoded data removed]",
      "text/plain": [
       "<Figure size 432x288 with 1 Axes>"
      ]
     },
     "metadata": {
      "needs_background": "light"
     },
     "output_type": "display_data"
    }
   ],
   "source": [
    "# Input of a single number\n",
    "first_layer = InputLayer(1)\n",
    "\n",
    "# Creates 2 Dense RELU Layers of 10 neurons\n",
    "prev_layer = first_layer\n",
    "for i in range(3):\n",
    "    layer = DenseLayer(10, relu, prev_layer)\n",
    "    prev_layer = layer\n",
    "\n",
    "\n",
    "# Output of a single number\n",
    "last_layer = DenseLayer(1,identity,prev_layer)\n",
    "train_and_test(10000, first_layer, last_layer, -100, 100, test_set)"
   ]
  },
  {
   "cell_type": "markdown",
   "metadata": {},
   "source": [
    "**5 Layer Network**"
   ]
  },
  {
   "cell_type": "code",
   "execution_count": 182,
   "metadata": {},
   "outputs": [
    {
     "data": {
      "image/png": "[encoded data removed]",
      "text/plain": [
       "<Figure size 432x288 with 1 Axes>"
      ]
     },
     "metadata": {
      "needs_background": "light"
     },
     "output_type": "display_data"
    },
    {
     "name": "stdout",
     "output_type": "stream",
     "text": [
      "RMSE: 279.7101928762151\n"
     ]
    },
    {
     "data": {
      "image/png": "[encoded data removed]",
      "text/plain": [
       "<Figure size 432x288 with 1 Axes>"
      ]
     },
     "metadata": {
      "needs_background": "light"
     },
     "output_type": "display_data"
    }
   ],
   "source": [
    "# Input of a single number\n",
    "first_layer = InputLayer(1)\n",
    "\n",
    "# Creates 2 Dense RELU Layers of 10 neurons\n",
    "prev_layer = first_layer\n",
    "for i in range(5):\n",
    "    layer = DenseLayer(10, relu, prev_layer)\n",
    "    prev_layer = layer\n",
    "\n",
    "\n",
    "# Output of a single number\n",
    "last_layer = DenseLayer(1,identity,prev_layer)\n",
    "train_and_test(10000, first_layer, last_layer, -100, 100, test_set)"
   ]
  },
  {
   "cell_type": "markdown",
   "metadata": {},
   "source": [
    "Intereresting! The smallest network converges fairly quickly but has the worst **RMSE** (Root Mean Squared Error). \n",
    "\n",
    "The **3-layer network** performs even **better**. However, the **5-layer network** isn't the best and its **loss curve certainly looks weird**.\n",
    "\n",
    "Let's give them **more epochs** and see what happens:"
   ]
  },
  {
   "cell_type": "markdown",
   "metadata": {},
   "source": [
    "**2 Layer Network**"
   ]
  },
  {
   "cell_type": "code",
   "execution_count": 186,
   "metadata": {},
   "outputs": [
    {
     "data": {
      "image/png": "[encoded data removed]",
      "text/plain": [
       "<Figure size 432x288 with 1 Axes>"
      ]
     },
     "metadata": {
      "needs_background": "light"
     },
     "output_type": "display_data"
    },
    {
     "name": "stdout",
     "output_type": "stream",
     "text": [
      "RMSE: 77.22335807530628\n"
     ]
    },
    {
     "data": {
      "image/png": "[encoded data removed]",
      "text/plain": [
       "<Figure size 432x288 with 1 Axes>"
      ]
     },
     "metadata": {
      "needs_background": "light"
     },
     "output_type": "display_data"
    }
   ],
   "source": [
    "# Input of a single number\n",
    "first_layer = InputLayer(1)\n",
    "\n",
    "# Creates 2 Dense RELU Layers of 10 neurons\n",
    "prev_layer = first_layer\n",
    "for i in range(2):\n",
    "    layer = DenseLayer(10, relu, prev_layer)\n",
    "    prev_layer = layer\n",
    "\n",
    "\n",
    "# Output of a single number\n",
    "last_layer = DenseLayer(1,identity,prev_layer)\n",
    "train_and_test(100000, first_layer, last_layer, -100, 100, test_set)"
   ]
  },
  {
   "cell_type": "markdown",
   "metadata": {},
   "source": [
    "**3 Layer Network**"
   ]
  },
  {
   "cell_type": "code",
   "execution_count": 187,
   "metadata": {},
   "outputs": [
    {
     "data": {
      "image/png": "[encoded data removed]",
      "text/plain": [
       "<Figure size 432x288 with 1 Axes>"
      ]
     },
     "metadata": {
      "needs_background": "light"
     },
     "output_type": "display_data"
    },
    {
     "name": "stdout",
     "output_type": "stream",
     "text": [
      "RMSE: 67.52232877792288\n"
     ]
    },
    {
     "data": {
      "image/png": "[encoded data removed]",
      "text/plain": [
       "<Figure size 432x288 with 1 Axes>"
      ]
     },
     "metadata": {
      "needs_background": "light"
     },
     "output_type": "display_data"
    }
   ],
   "source": [
    "# Input of a single number\n",
    "first_layer = InputLayer(1)\n",
    "\n",
    "# Creates 2 Dense RELU Layers of 10 neurons\n",
    "prev_layer = first_layer\n",
    "for i in range(3):\n",
    "    layer = DenseLayer(10, relu, prev_layer)\n",
    "    prev_layer = layer\n",
    "\n",
    "\n",
    "# Output of a single number\n",
    "last_layer = DenseLayer(1,identity,prev_layer)\n",
    "train_and_test(100000, first_layer, last_layer, -100, 100, test_set)"
   ]
  },
  {
   "cell_type": "markdown",
   "metadata": {},
   "source": [
    "**5 Layer Network**"
   ]
  },
  {
   "cell_type": "code",
   "execution_count": 188,
   "metadata": {},
   "outputs": [
    {
     "data": {
      "image/png": "[encoded data removed]",
      "text/plain": [
       "<Figure size 432x288 with 1 Axes>"
      ]
     },
     "metadata": {
      "needs_background": "light"
     },
     "output_type": "display_data"
    },
    {
     "name": "stdout",
     "output_type": "stream",
     "text": [
      "RMSE: 45.372004671392645\n"
     ]
    },
    {
     "data": {
      "image/png": "[encoded data removed]",
      "text/plain": [
       "<Figure size 432x288 with 1 Axes>"
      ]
     },
     "metadata": {
      "needs_background": "light"
     },
     "output_type": "display_data"
    }
   ],
   "source": [
    "# Input of a single number\n",
    "first_layer = InputLayer(1)\n",
    "\n",
    "# Creates 2 Dense RELU Layers of 10 neurons\n",
    "prev_layer = first_layer\n",
    "for i in range(5):\n",
    "    layer = DenseLayer(10, relu, prev_layer)\n",
    "    prev_layer = layer\n",
    "\n",
    "\n",
    "# Output of a single number\n",
    "last_layer = DenseLayer(1,identity,prev_layer)\n",
    "train_and_test(100000, first_layer, last_layer, -100, 100, test_set)"
   ]
  },
  {
   "cell_type": "markdown",
   "metadata": {},
   "source": [
    "There we go! Although the fatter tail on the loss curve indicates a longer time to converge, the larger network reaches a lower RMSE as it has more parameters and more neurons."
   ]
  },
  {
   "cell_type": "markdown",
   "metadata": {},
   "source": [
    "### Layer Width\n",
    "\n",
    "Let's test this with layer widths."
   ]
  },
  {
   "cell_type": "markdown",
   "metadata": {},
   "source": [
    "**10-Neuron Layers**"
   ]
  },
  {
   "cell_type": "code",
   "execution_count": 192,
   "metadata": {},
   "outputs": [
    {
     "data": {
      "image/png": "[encoded data removed]",
      "text/plain": [
       "<Figure size 432x288 with 1 Axes>"
      ]
     },
     "metadata": {
      "needs_background": "light"
     },
     "output_type": "display_data"
    },
    {
     "name": "stdout",
     "output_type": "stream",
     "text": [
      "RMSE: 76.56017070764071\n"
     ]
    },
    {
     "data": {
      "image/png": "[encoded data removed]",
      "text/plain": [
       "<Figure size 432x288 with 1 Axes>"
      ]
     },
     "metadata": {
      "needs_background": "light"
     },
     "output_type": "display_data"
    }
   ],
   "source": [
    "# Input of a single number\n",
    "first_layer = InputLayer(1)\n",
    "\n",
    "# Creates 2 Dense RELU Layers of 10 neurons\n",
    "prev_layer = first_layer\n",
    "for i in range(2):\n",
    "    layer = DenseLayer(10, relu, prev_layer)\n",
    "    prev_layer = layer\n",
    "\n",
    "\n",
    "# Output of a single number\n",
    "last_layer = DenseLayer(1,identity,prev_layer)\n",
    "train_and_test(100000, first_layer, last_layer, -100, 100, test_set)"
   ]
  },
  {
   "cell_type": "markdown",
   "metadata": {},
   "source": [
    "**30-Neuron Layers**"
   ]
  },
  {
   "cell_type": "code",
   "execution_count": 193,
   "metadata": {},
   "outputs": [
    {
     "data": {
      "image/png": "[encoded data removed]",
      "text/plain": [
       "<Figure size 432x288 with 1 Axes>"
      ]
     },
     "metadata": {
      "needs_background": "light"
     },
     "output_type": "display_data"
    },
    {
     "name": "stdout",
     "output_type": "stream",
     "text": [
      "RMSE: 73.65268831358105\n"
     ]
    },
    {
     "data": {
      "image/png": "[encoded data removed]",
      "text/plain": [
       "<Figure size 432x288 with 1 Axes>"
      ]
     },
     "metadata": {
      "needs_background": "light"
     },
     "output_type": "display_data"
    }
   ],
   "source": [
    "# Input of a single number\n",
    "first_layer = InputLayer(1)\n",
    "\n",
    "# Creates 2 Dense RELU Layers of 10 neurons\n",
    "prev_layer = first_layer\n",
    "for i in range(2):\n",
    "    layer = DenseLayer(30, relu, prev_layer)\n",
    "    prev_layer = layer\n",
    "\n",
    "\n",
    "# Output of a single number\n",
    "last_layer = DenseLayer(1,identity,prev_layer)\n",
    "train_and_test(100000, first_layer, last_layer, -100, 100, test_set)"
   ]
  },
  {
   "cell_type": "markdown",
   "metadata": {},
   "source": [
    "**5-Neuron Layers**"
   ]
  },
  {
   "cell_type": "code",
   "execution_count": 194,
   "metadata": {},
   "outputs": [
    {
     "data": {
      "image/png": "[encoded data removed]",
      "text/plain": [
       "<Figure size 432x288 with 1 Axes>"
      ]
     },
     "metadata": {
      "needs_background": "light"
     },
     "output_type": "display_data"
    },
    {
     "name": "stdout",
     "output_type": "stream",
     "text": [
      "RMSE: 45.10701229203018\n"
     ]
    },
    {
     "data": {
      "image/png": "[encoded data removed]",
      "text/plain": [
       "<Figure size 432x288 with 1 Axes>"
      ]
     },
     "metadata": {
      "needs_background": "light"
     },
     "output_type": "display_data"
    }
   ],
   "source": [
    "# Input of a single number\n",
    "first_layer = InputLayer(1)\n",
    "\n",
    "# Creates 2 Dense RELU Layers of 10 neurons\n",
    "prev_layer = first_layer\n",
    "for i in range(2):\n",
    "    layer = DenseLayer(100, relu, prev_layer)\n",
    "    prev_layer = layer\n",
    "\n",
    "\n",
    "# Output of a single number\n",
    "last_layer = DenseLayer(1,identity,prev_layer)\n",
    "train_and_test(100000, first_layer, last_layer, -100, 100, test_set)"
   ]
  },
  {
   "cell_type": "markdown",
   "metadata": {},
   "source": [
    "Wow that model took a long time to train! However, once again, it performs much better than the others because the increased layer-width allows modelling more complex relationships."
   ]
  },
  {
   "cell_type": "markdown",
   "metadata": {},
   "source": [
    "## Tweaks and Debugging"
   ]
  },
  {
   "cell_type": "markdown",
   "metadata": {},
   "source": [
    "An important thing to recognise is what isn't included in this notebook - **Debugging**:\n",
    "\n",
    "Here's a list of issues (and attempted solutions) encountered while creating the network:\n",
    "- Exploding Gradients -> Try clipping the gradients to a certain range\n",
    "- Vanishing Gradients -> Switch from sigmoid to RELU & initialise neurons better.\n",
    "- Various Programming Errors -> Write better code\n",
    "- Stagnant Loss Function -> Normalise Inputs (this was decided after testing various fixes)\n",
    "\n",
    "And here's a list of debugging strategies (with no commentary of their effectiveness):\n",
    "- Training a model using keras/sklearn and comparing outputs at various stages\n",
    "- Stepping through propagations on paper by hand\n",
    "- Trying to tweak various hyperparameters - layer size, layer count, learning rate\n",
    "- Switching back and forth between RELU/Sigmoid to compare how they get things wrong\n",
    "\n",
    "\n",
    "As you can probably tell, this process is a far cry from the plug-and-play simplicity of logistic regression. And yes, using established frameworks with better optimisers makes everything easier, but the increased complexity is still evident.\n",
    "\n",
    "## Final Notes\n",
    "\n",
    "A key takeaway is this:\n",
    "\n",
    "**Neural Networks** are **powerful tools** when you have enough data for them. <br /> However, **making more assumptions/observations** about the data often allows the choice of a **simpler, more specialised model** - e.g. GLMs, Logistic Regression, Decision trees, Ensemble Methods etc. \n",
    "\n",
    "And next time you need a parabola, **don't whip out tensorflow**. Surprisingly, **Machine Learning** isn't the solution for ***everything***"
   ]
  }
 ],
 "metadata": {
  "kernelspec": {
   "display_name": "Python 3",
   "language": "python",
   "name": "python3"
  },
  "language_info": {
   "codemirror_mode": {
    "name": "ipython",
    "version": 3
   },
   "file_extension": ".py",
   "mimetype": "text/x-python",
   "name": "python",
   "nbconvert_exporter": "python",
   "pygments_lexer": "ipython3",
   "version": "3.6.12"
  }
 },
 "nbformat": 4,
 "nbformat_minor": 4
}
