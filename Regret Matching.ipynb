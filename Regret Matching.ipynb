{
 "cells": [
  {
   "cell_type": "markdown",
   "metadata": {},
   "source": [
    "## Regret Matching\n",
    "by [HydraulicSheep](https://github.com/HydraulicSheep)"
   ]
  },
  {
   "cell_type": "markdown",
   "metadata": {},
   "source": [
    "Regret matching is a simple technique for finding Nash Equilibria in games. It can be broadly expanded to multi-turn, hidden-state games via the process of Counterfactual Regret Minimization.\n",
    "\n",
    "References: \n",
    "\n",
    "* http://modelai.gettysburg.edu/2013/cfr/cfr.pdf\n",
    "\n",
    "* https://blogs.cornell.edu/info2040/2014/09/12/applying-nash-equilibrium-to-rock-paper-and-scissors/\n"
   ]
  },
  {
   "cell_type": "markdown",
   "metadata": {},
   "source": [
    "### Simple Regret Matching"
   ]
  },
  {
   "cell_type": "markdown",
   "metadata": {},
   "source": [
    "Regret Matching underpins the concept of Regret Minimization. It involves assigning regrets based on how actions turned out compared with your choice - \"a regret\". This is then repeated for a number of iterations and the strategy converges to an equilibrium."
   ]
  },
  {
   "cell_type": "markdown",
   "metadata": {},
   "source": [
    "Let's give it a try with Rock Paper Scissors:"
   ]
  },
  {
   "cell_type": "code",
   "execution_count": 3,
   "metadata": {},
   "outputs": [],
   "source": [
    "import random\n",
    "import numpy as np\n",
    "import pandas as pd\n",
    "import matplotlib.pyplot as plt"
   ]
  },
  {
   "cell_type": "markdown",
   "metadata": {},
   "source": [
    "Now, let's initialize a simple bot class."
   ]
  },
  {
   "cell_type": "code",
   "execution_count": 4,
   "metadata": {},
   "outputs": [],
   "source": [
    "class RPSBot:\n",
    "    \n",
    "    def __init__():\n",
    "        #0 initialisation to prevent dealing with later checks.\n",
    "        self.strategy = [0,0,0]   #Stores the current strategy for selecting a move\n",
    "        self.strategySum = [0,0,0] #Stores cumulative strategy over time. Normalizing this gives a converging strategy.\n",
    "        self.regretSum = [0,0,0] #Stores sums of cumulative regrets associated with each move.\n",
    "    "
   ]
  },
  {
   "cell_type": "markdown",
   "metadata": {},
   "source": [
    "Now let's define some important methods. First, a way to update the strategy:"
   ]
  },
  {
   "cell_type": "code",
   "execution_count": 5,
   "metadata": {},
   "outputs": [],
   "source": [
    "    def updateStrategy(self):\n",
    "        totalWeight = 0  #Used to count total weights and normalize them to between 0 and 1.\n",
    "        for i in range(len(self.strategy)):\n",
    "            \n",
    "            x = max(0,self.regretSum[i])  #We only keep non-negative regrets.\n",
    "            totalWeight += x\n",
    "            self.strategy[i] = x\n",
    "            \n",
    "        for i in range(len(self.strategy)): #3 actions so the list has length 3.\n",
    "            \n",
    "            if totalWeight>0:\n",
    "                self.strategy[i] /= totalWeight #Normalises each weight\n",
    "            else:\n",
    "                self.strategy[i] = 1/len(self.strategy)  #If no strategy, assign equal weight.\n",
    "                \n",
    "            self.strategySum[i] += self.strategy[i]  #Adds this iteration's strategy to the total.\n",
    "        "
   ]
  },
  {
   "cell_type": "markdown",
   "metadata": {},
   "source": [
    "A strategy is just an array of probabilities - a distribution. To make a move, we simply sample over this distribution. Let's define a method to sample the strategy."
   ]
  },
  {
   "cell_type": "code",
   "execution_count": 6,
   "metadata": {},
   "outputs": [],
   "source": [
    "    def sampleStrategy(self):\n",
    "        action = np.random.choice(np.arange(3),p=self.strategy)  #Choosing from array [0,1,2] \n",
    "        return action\n"
   ]
  },
  {
   "cell_type": "markdown",
   "metadata": {},
   "source": [
    "Great! Conveniently, numpy will let us specify our distribution and then choose a number - 0,1,2 which represent the actions. Let's define them more clearly now."
   ]
  },
  {
   "cell_type": "code",
   "execution_count": 7,
   "metadata": {},
   "outputs": [],
   "source": [
    "#Let's make Rock = 0,  Paper = 1,  and Scissors = 2"
   ]
  },
  {
   "cell_type": "markdown",
   "metadata": {},
   "source": [
    "Now, let's just add a method to return the average strategy (the thing which actually converges):"
   ]
  },
  {
   "cell_type": "code",
   "execution_count": 8,
   "metadata": {},
   "outputs": [],
   "source": [
    "    def getAverageStrategy(self):\n",
    "        averageStrategy = [0,0,0]\n",
    "        totalWeight = 0\n",
    "        for i in range(len(self.strategy)):\n",
    "            totalWeight += self.strategySum[i]\n",
    "        for i in range(len(self.strategy)):\n",
    "            if totalWeight > 0:\n",
    "                averageStrategy[i] = self.strategySum[i]/totalWeight\n",
    "            else:\n",
    "                averageStrategy[i] = 1/3\n",
    "        return averageStrategy\n"
   ]
  },
  {
   "cell_type": "markdown",
   "metadata": {},
   "source": [
    "Great! Technically the regret minimization part is now done. We just need to write a handler to run the games and compute the regrets for both bots."
   ]
  },
  {
   "cell_type": "code",
   "execution_count": 9,
   "metadata": {},
   "outputs": [],
   "source": [
    "def train(iterations,bot1,bot2):\n",
    "    bot1data = []\n",
    "    bot2data = []\n",
    "    for i in range(iterations):\n",
    "        utility1 = [0,0,0]\n",
    "        utility2 = [0,0,0]\n",
    "        # First we request moves from both bots\n",
    "        \n",
    "        bot1.updateStrategy()\n",
    "        bot2.updateStrategy()\n",
    "        \n",
    "        action1 = bot1.sampleStrategy()\n",
    "        action2 = bot2.sampleStrategy()\n",
    "        \n",
    "        # Then we compute the 'utility' scores of both moves\n",
    "        \n",
    "        utility1[action2] = 0\n",
    "        utility2[action1] = 0\n",
    "        \n",
    "        #Now actions to the right beat their left neighnour. So they have utility 1\n",
    "        \n",
    "        utility1[(action2+1)%3] = 1\n",
    "        utility2[(action1+1)%3] = 1\n",
    "        \n",
    "        #And actions to the left lose to their right neighbour. So they have utility -1\n",
    "        \n",
    "        utility1[(action2-1)%3] = -1\n",
    "        utility2[(action1-1)%3] = -1\n",
    "        \n",
    "        #Update regretSum for bot1\n",
    "        \n",
    "        for x in range(len(utility1)):\n",
    "            bot1.regretSum[x] += utility1[x] - utility1[action1]\n",
    "        \n",
    "            \n",
    "        #And for bot2\n",
    "        \n",
    "        for y in range(len(utility2)):\n",
    "            bot2.regretSum[y] += utility2[y] - utility2[action1]\n",
    "            \n",
    "        if i % 100 == 0:\n",
    "            bot1data.append(bot1.getAverageStrategy()[0])\n",
    "            bot2data.append(bot2.getAverageStrategy()[0])\n",
    "            \n",
    "    bot1series = pd.Series(bot1data,index=np.arange(0,iterations,100))\n",
    "    bot2series = pd.Series(bot2data,index=np.arange(0,iterations,100))\n",
    "    return bot1series, bot2series\n",
    "        "
   ]
  },
  {
   "cell_type": "markdown",
   "metadata": {},
   "source": [
    "So a training handler has been made, and the whole bot looks as follows:"
   ]
  },
  {
   "cell_type": "code",
   "execution_count": 10,
   "metadata": {},
   "outputs": [],
   "source": [
    "class RPSBot:\n",
    "    \n",
    "    def __init__(self):\n",
    "        self.strategy = [0,0,0] \n",
    "        self.strategySum = [0,0,0] \n",
    "        self.regretSum = [0,0,0]\n",
    "        \n",
    "    def updateStrategy(self):\n",
    "        totalWeight = 0 \n",
    "        for i in range(len(self.strategy)):\n",
    "            \n",
    "            x = max(0,self.regretSum[i])\n",
    "            totalWeight += x\n",
    "            self.strategy[i] = x\n",
    "            \n",
    "        for i in range(len(self.strategy)):\n",
    "            \n",
    "            if totalWeight>0:\n",
    "                self.strategy[i] /= totalWeight\n",
    "            else:\n",
    "                self.strategy[i] = 1/len(self.strategy)\n",
    "                \n",
    "            self.strategySum[i] += self.strategy[i]\n",
    "        \n",
    "    def sampleStrategy(self):\n",
    "        action = np.random.choice(np.arange(3),p=self.strategy)\n",
    "        return action\n",
    "        \n",
    "    def getAverageStrategy(self):\n",
    "        averageStrategy = [0,0,0]\n",
    "        totalWeight = 0\n",
    "        for i in range(len(self.strategy)):\n",
    "            totalWeight += self.strategySum[i]\n",
    "        for i in range(len(self.strategy)):\n",
    "            if totalWeight > 0:\n",
    "                averageStrategy[i] = self.strategySum[i]/totalWeight\n",
    "            else:\n",
    "                averageStrategy[i] = 1/3\n",
    "        return averageStrategy\n"
   ]
  },
  {
   "cell_type": "markdown",
   "metadata": {},
   "source": [
    "Now, let's specify a number of iterations and run! This was set at 1 million iterations and took about 30 seconds to run on laptop hardware:"
   ]
  },
  {
   "cell_type": "code",
   "execution_count": 26,
   "metadata": {},
   "outputs": [
    {
     "name": "stdout",
     "output_type": "stream",
     "text": [
      "0         0.333333\n",
      "100       0.268842\n",
      "200       0.281763\n",
      "300       0.316494\n",
      "400       0.355149\n",
      "            ...   \n",
      "999500    0.334217\n",
      "999600    0.334283\n",
      "999700    0.334350\n",
      "999800    0.334416\n",
      "999900    0.334483\n",
      "Length: 10000, dtype: float64\n"
     ]
    },
    {
     "data": {
      "image/png": "[encoded data removed]",
      "text/plain": [
       "<Figure size 432x288 with 1 Axes>"
      ]
     },
     "metadata": {
      "needs_background": "light"
     },
     "output_type": "display_data"
    }
   ],
   "source": [
    "ITERATIONS = 1000000\n",
    "bot1 = RPSBot()\n",
    "bot2 = RPSBot()\n",
    "bot1series, bot2series = train(ITERATIONS,bot1,bot2)\n",
    "data = pd.concat([bot1series,bot2series],axis=1)\n",
    "data.plot()\n",
    "print(bot1series)"
   ]
  },
  {
   "cell_type": "markdown",
   "metadata": {},
   "source": [
    "This graph plots just the Rock moves for players 1 and 2 (here 0 and 1) over iterations in the simulation. It is quite clear that these both converge to 0.33. This is what we expect from Rock Paper Scissors! There is a Nash Equilibrium at (1/3,1/3,1/3) and both bots iterate towards it."
   ]
  },
  {
   "cell_type": "markdown",
   "metadata": {},
   "source": [
    "Now, let's play around with it for a bit:"
   ]
  },
  {
   "cell_type": "markdown",
   "metadata": {},
   "source": [
    "**What if ...** winning with **rock** feels extra satisfying and losing with **rock** is very saddening. Let's change the utility for those actions to **+2** and **-2**. \n",
    "\n",
    "*Note at how I've kept the posititve and negative weights equal to ensure that the game stays zero-sum. The reasons for this are touched on in the document referenced above*"
   ]
  },
  {
   "cell_type": "code",
   "execution_count": 36,
   "metadata": {},
   "outputs": [],
   "source": [
    "def train(iterations,bot1,bot2):\n",
    "    bot1data = []\n",
    "    bot2data = []\n",
    "    for i in range(iterations):\n",
    "        utility1 = [0,0,0]\n",
    "        utility2 = [0,0,0]\n",
    "        # First we request moves from both bots\n",
    "        \n",
    "        bot1.updateStrategy()\n",
    "        bot2.updateStrategy()\n",
    "        \n",
    "        action1 = bot1.sampleStrategy()\n",
    "        action2 = bot2.sampleStrategy()\n",
    "        \n",
    "        # Then we compute the 'utility' scores of both moves\n",
    "        \n",
    "        utility1[action2] = 0\n",
    "        utility2[action1] = 0\n",
    "        \n",
    "        #Now actions to the right beat their left neighnour. So they have utility 1\n",
    "        \n",
    "        if action1 == 0: \n",
    "            utility2[(action1+1)%3] = 2\n",
    "        else:\n",
    "            utility2[(action1+1)%3] = 1\n",
    "         \n",
    "        if action2 == 0: \n",
    "            utility1[(action2+1)%3] = 2\n",
    "        else:\n",
    "            utility1[(action2+1)%3] = 1\n",
    "\n",
    "        #And actions to the left lose to their right neighbour. So they have utility -1\n",
    "        \n",
    "        if action1 == 0: \n",
    "            utility2[(action1-1)%3] = -2\n",
    "        else:\n",
    "            utility2[(action1-1)%3] = -1\n",
    "         \n",
    "        if action2 == 0: \n",
    "            utility1[(action2-1)%3] = -2\n",
    "        else:\n",
    "            utility1[(action2-1)%3] = -1\n",
    "        \n",
    "        #Update regretSum for bot1\n",
    "        \n",
    "        for x in range(len(utility1)):\n",
    "            bot1.regretSum[x] += utility1[x] - utility1[action1]\n",
    "        \n",
    "            \n",
    "        #And for bot2\n",
    "        \n",
    "        for y in range(len(utility2)):\n",
    "            bot2.regretSum[y] += utility2[y] - utility2[action2]\n",
    "\n",
    "            \n",
    "        if i % 100 == 0:\n",
    "            bot1data.append(bot1.getAverageStrategy()[0])\n",
    "            bot2data.append(bot2.getAverageStrategy()[0])\n",
    "            \n",
    "    bot1series = pd.Series(bot1data,index=np.arange(0,iterations,100))\n",
    "    bot2series = pd.Series(bot2data,index=np.arange(0,iterations,100))\n",
    "    return bot1series, bot2series\n",
    "        "
   ]
  },
  {
   "cell_type": "code",
   "execution_count": 42,
   "metadata": {},
   "outputs": [
    {
     "name": "stdout",
     "output_type": "stream",
     "text": [
      "0         0.333333\n",
      "100       0.247316\n",
      "200       0.211460\n",
      "300       0.225005\n",
      "400       0.235358\n",
      "            ...   \n",
      "999500    0.201093\n",
      "999600    0.201073\n",
      "999700    0.201052\n",
      "999800    0.201032\n",
      "999900    0.201012\n",
      "Length: 10000, dtype: float64\n"
     ]
    },
    {
     "data": {
      "image/png": "[encoded data removed]",
      "text/plain": [
       "<Figure size 432x288 with 1 Axes>"
      ]
     },
     "metadata": {
      "needs_background": "light"
     },
     "output_type": "display_data"
    }
   ],
   "source": [
    "ITERATIONS = 1000000\n",
    "bot1 = RPSBot()\n",
    "bot2 = RPSBot()\n",
    "bot1series, bot2series = train(ITERATIONS,bot1,bot2)\n",
    "data = pd.concat([bot1series,bot2series],axis=1)\n",
    "data.plot()\n",
    "print(bot1series)"
   ]
  },
  {
   "cell_type": "markdown",
   "metadata": {},
   "source": [
    "Now, this behaviour is interesting. Here the plot looks to converge to around 0.20. You might have expected that Rock, the action shown here, given its higher payoffs might have been more prevalent. Let's do some **calculations** to see why not:"
   ]
  },
  {
   "cell_type": "markdown",
   "metadata": {},
   "source": [
    "First, let's define a payoff matrix for our game. If you're unfamiliar, each ordered pair represents the utility/payoff for an action: \n",
    "\n",
    "i.e. (**row player** payoff, **column player** payoff)"
   ]
  },
  {
   "cell_type": "markdown",
   "metadata": {},
   "source": [
    "\n",
    "\\begin{matrix}\n",
    "     & \\textbf{Rock} & \\textbf{Paper} & \\textbf{Scissors}\\\\\n",
    "\\textbf{Rock} & 0,0 & -2,2 & 2,-2 \\\\\n",
    "\\textbf{Paper} & 2,-2 & 0,0 & -1,1\\\\\n",
    "\\textbf{Scissors} & -2,2 & 1,-1 & 0,0 \\\\\n",
    "\\end{matrix}"
   ]
  },
  {
   "cell_type": "markdown",
   "metadata": {},
   "source": [
    "As I specified, losing to and winning with rock are given extra weight."
   ]
  },
  {
   "cell_type": "markdown",
   "metadata": {},
   "source": [
    "Now, to find an equilibrium mixed strategy of all 3 actions, each player's expected utilities - E(U) - should be equal across all of their choices.\n",
    "\n",
    "Let's examine expected values for the row player:"
   ]
  },
  {
   "cell_type": "markdown",
   "metadata": {},
   "source": [
    "Let     $    \\textbf{p}_{c,rock},\\textbf{p}_{c,paper}, \\textbf{p}_{c,scissors}   $     be the probabilities of the column player taking a certain action"
   ]
  },
  {
   "cell_type": "markdown",
   "metadata": {},
   "source": [
    "From this, a linear system can be formed:"
   ]
  },
  {
   "cell_type": "markdown",
   "metadata": {},
   "source": [
    "$$ E(Rock) = 0*{p}_{c,rock} + -2*{p}_{c,paper} + 2*{p}_{c,scissors} = 2*{p}_{c,rock} - 2*{p}_{c,paper} \\quad [1]$$"
   ]
  },
  {
   "cell_type": "markdown",
   "metadata": {},
   "source": [
    "$$ E(Paper) = 2*{p}_{c,rock} + 0*{p}_{c,paper} - 1*{p}_{c,scissors} = 2*{p}_{c,rock} - {p}_{c,scissors} \\quad [2]$$"
   ]
  },
  {
   "cell_type": "markdown",
   "metadata": {},
   "source": [
    "$$ E(Scissors) = -2*{p}_{c,rock} + 1*{p}_{c,paper} + 0*{p}_{c,scissors} = {p}_{c,paper} - 2*{p}_{c,rock} \\quad [3]$$"
   ]
  },
  {
   "cell_type": "markdown",
   "metadata": {},
   "source": [
    "And we can simplify by recognising $\\textbf{p}_{c,rock} + \\textbf{p}_{c,paper} +  \\textbf{p}_{c,scissors} = 1$ - They form a strategy. And, by the statement above, row player expected values must all be equal: \n",
    "\n",
    "$$E(Rock) = E(Paper) = E(Scissors)$$"
   ]
  },
  {
   "cell_type": "markdown",
   "metadata": {},
   "source": [
    "So, equating [3] and [2], we obtain:"
   ]
  },
  {
   "cell_type": "markdown",
   "metadata": {},
   "source": [
    "$$ {p}_{c,paper} - 2*{p}_{c,rock} = 2*{p}_{c,rock} - {p}_{c,scissors}$$"
   ]
  },
  {
   "cell_type": "markdown",
   "metadata": {},
   "source": [
    "$$ {p}_{c,paper} + {p}_{c,scissors} = 4*p_{c,rock}    \\quad [4]$$  "
   ]
  },
  {
   "cell_type": "markdown",
   "metadata": {},
   "source": [
    "$$ {p}_{c,paper} + {p}_{c,scissors} = 1 - {p}_{c,rock} \\quad [5]$$"
   ]
  },
  {
   "cell_type": "markdown",
   "metadata": {},
   "source": [
    "Substitute [5] into [4]:"
   ]
  },
  {
   "cell_type": "markdown",
   "metadata": {},
   "source": [
    "$$ 1 = 5*p_{c,rock} $$"
   ]
  },
  {
   "cell_type": "markdown",
   "metadata": {},
   "source": [
    "$$ p_{c,rock} = 1/5 $$"
   ]
  },
  {
   "cell_type": "markdown",
   "metadata": {},
   "source": [
    "And look at that! Our calculated rock probability matches the value our simulated bots approach. It's a wonder that such a simple and intuitive concept - totalling 'regrets' - will converge to find an equilibrium mixed strategy.\n",
    "\n",
    "\n",
    "\n",
    "And that's all for this notebook. Stay tuned to my ***Github*** - [HydraulicSheep](https://github.com/HydraulicSheep) - for explorations of more great ***Game Theory*** and ***Statistics*** content."
   ]
  }
 ],
 "metadata": {
  "kernelspec": {
   "display_name": "Python 3",
   "language": "python",
   "name": "python3"
  },
  "language_info": {
   "codemirror_mode": {
    "name": "ipython",
    "version": 3
   },
   "file_extension": ".py",
   "mimetype": "text/x-python",
   "name": "python",
   "nbconvert_exporter": "python",
   "pygments_lexer": "ipython3",
   "version": "3.7.6"
  }
 },
 "nbformat": 4,
 "nbformat_minor": 4
}
